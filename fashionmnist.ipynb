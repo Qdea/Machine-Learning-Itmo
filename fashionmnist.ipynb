{
  "nbformat": 4,
  "nbformat_minor": 0,
  "metadata": {
    "colab": {
      "name": "fashionmnist.ipynb",
      "provenance": [],
      "collapsed_sections": []
    },
    "kernelspec": {
      "display_name": "Python 3",
      "language": "python",
      "name": "python3"
    },
    "accelerator": "GPU",
    "widgets": {
      "application/vnd.jupyter.widget-state+json": {
        "dd329a18263b4072a7574cfe25829a43": {
          "model_module": "@jupyter-widgets/controls",
          "model_name": "HBoxModel",
          "model_module_version": "1.5.0",
          "state": {
            "_view_name": "HBoxView",
            "_dom_classes": [],
            "_model_name": "HBoxModel",
            "_view_module": "@jupyter-widgets/controls",
            "_model_module_version": "1.5.0",
            "_view_count": null,
            "_view_module_version": "1.5.0",
            "box_style": "",
            "layout": "IPY_MODEL_37e501bda7ce4fa99fe1173b8753d676",
            "_model_module": "@jupyter-widgets/controls",
            "children": [
              "IPY_MODEL_e2a86830bb024c1880eeec6ddfb01555",
              "IPY_MODEL_c5dff33b3d654b82b85fc01ed89352fc",
              "IPY_MODEL_4dbac8f98cea483e938e93296d87431d"
            ]
          }
        },
        "37e501bda7ce4fa99fe1173b8753d676": {
          "model_module": "@jupyter-widgets/base",
          "model_name": "LayoutModel",
          "model_module_version": "1.2.0",
          "state": {
            "_view_name": "LayoutView",
            "grid_template_rows": null,
            "right": null,
            "justify_content": null,
            "_view_module": "@jupyter-widgets/base",
            "overflow": null,
            "_model_module_version": "1.2.0",
            "_view_count": null,
            "flex_flow": null,
            "width": null,
            "min_width": null,
            "border": null,
            "align_items": null,
            "bottom": null,
            "_model_module": "@jupyter-widgets/base",
            "top": null,
            "grid_column": null,
            "overflow_y": null,
            "overflow_x": null,
            "grid_auto_flow": null,
            "grid_area": null,
            "grid_template_columns": null,
            "flex": null,
            "_model_name": "LayoutModel",
            "justify_items": null,
            "grid_row": null,
            "max_height": null,
            "align_content": null,
            "visibility": null,
            "align_self": null,
            "height": null,
            "min_height": null,
            "padding": null,
            "grid_auto_rows": null,
            "grid_gap": null,
            "max_width": null,
            "order": null,
            "_view_module_version": "1.2.0",
            "grid_template_areas": null,
            "object_position": null,
            "object_fit": null,
            "grid_auto_columns": null,
            "margin": null,
            "display": null,
            "left": null
          }
        },
        "e2a86830bb024c1880eeec6ddfb01555": {
          "model_module": "@jupyter-widgets/controls",
          "model_name": "HTMLModel",
          "model_module_version": "1.5.0",
          "state": {
            "_view_name": "HTMLView",
            "style": "IPY_MODEL_3817d63aefa0469bba999745488678d2",
            "_dom_classes": [],
            "description": "",
            "_model_name": "HTMLModel",
            "placeholder": "​",
            "_view_module": "@jupyter-widgets/controls",
            "_model_module_version": "1.5.0",
            "value": "",
            "_view_count": null,
            "_view_module_version": "1.5.0",
            "description_tooltip": null,
            "_model_module": "@jupyter-widgets/controls",
            "layout": "IPY_MODEL_83dbb9f323404ec691b4b5f5eaf65c1f"
          }
        },
        "c5dff33b3d654b82b85fc01ed89352fc": {
          "model_module": "@jupyter-widgets/controls",
          "model_name": "FloatProgressModel",
          "model_module_version": "1.5.0",
          "state": {
            "_view_name": "ProgressView",
            "style": "IPY_MODEL_4adeade535f04e5a9b16151c35109c64",
            "_dom_classes": [],
            "description": "",
            "_model_name": "FloatProgressModel",
            "bar_style": "success",
            "max": 26421880,
            "_view_module": "@jupyter-widgets/controls",
            "_model_module_version": "1.5.0",
            "value": 26421880,
            "_view_count": null,
            "_view_module_version": "1.5.0",
            "orientation": "horizontal",
            "min": 0,
            "description_tooltip": null,
            "_model_module": "@jupyter-widgets/controls",
            "layout": "IPY_MODEL_58abb55976ba44eaa63d8ef30677e88d"
          }
        },
        "4dbac8f98cea483e938e93296d87431d": {
          "model_module": "@jupyter-widgets/controls",
          "model_name": "HTMLModel",
          "model_module_version": "1.5.0",
          "state": {
            "_view_name": "HTMLView",
            "style": "IPY_MODEL_8b718700ed6b40a28d0375e7fcb01173",
            "_dom_classes": [],
            "description": "",
            "_model_name": "HTMLModel",
            "placeholder": "​",
            "_view_module": "@jupyter-widgets/controls",
            "_model_module_version": "1.5.0",
            "value": " 26422272/? [00:01&lt;00:00, 19912157.06it/s]",
            "_view_count": null,
            "_view_module_version": "1.5.0",
            "description_tooltip": null,
            "_model_module": "@jupyter-widgets/controls",
            "layout": "IPY_MODEL_b23fb5d35e474906bea69c84c50accbb"
          }
        },
        "3817d63aefa0469bba999745488678d2": {
          "model_module": "@jupyter-widgets/controls",
          "model_name": "DescriptionStyleModel",
          "model_module_version": "1.5.0",
          "state": {
            "_view_name": "StyleView",
            "_model_name": "DescriptionStyleModel",
            "description_width": "",
            "_view_module": "@jupyter-widgets/base",
            "_model_module_version": "1.5.0",
            "_view_count": null,
            "_view_module_version": "1.2.0",
            "_model_module": "@jupyter-widgets/controls"
          }
        },
        "83dbb9f323404ec691b4b5f5eaf65c1f": {
          "model_module": "@jupyter-widgets/base",
          "model_name": "LayoutModel",
          "model_module_version": "1.2.0",
          "state": {
            "_view_name": "LayoutView",
            "grid_template_rows": null,
            "right": null,
            "justify_content": null,
            "_view_module": "@jupyter-widgets/base",
            "overflow": null,
            "_model_module_version": "1.2.0",
            "_view_count": null,
            "flex_flow": null,
            "width": null,
            "min_width": null,
            "border": null,
            "align_items": null,
            "bottom": null,
            "_model_module": "@jupyter-widgets/base",
            "top": null,
            "grid_column": null,
            "overflow_y": null,
            "overflow_x": null,
            "grid_auto_flow": null,
            "grid_area": null,
            "grid_template_columns": null,
            "flex": null,
            "_model_name": "LayoutModel",
            "justify_items": null,
            "grid_row": null,
            "max_height": null,
            "align_content": null,
            "visibility": null,
            "align_self": null,
            "height": null,
            "min_height": null,
            "padding": null,
            "grid_auto_rows": null,
            "grid_gap": null,
            "max_width": null,
            "order": null,
            "_view_module_version": "1.2.0",
            "grid_template_areas": null,
            "object_position": null,
            "object_fit": null,
            "grid_auto_columns": null,
            "margin": null,
            "display": null,
            "left": null
          }
        },
        "4adeade535f04e5a9b16151c35109c64": {
          "model_module": "@jupyter-widgets/controls",
          "model_name": "ProgressStyleModel",
          "model_module_version": "1.5.0",
          "state": {
            "_view_name": "StyleView",
            "_model_name": "ProgressStyleModel",
            "description_width": "",
            "_view_module": "@jupyter-widgets/base",
            "_model_module_version": "1.5.0",
            "_view_count": null,
            "_view_module_version": "1.2.0",
            "bar_color": null,
            "_model_module": "@jupyter-widgets/controls"
          }
        },
        "58abb55976ba44eaa63d8ef30677e88d": {
          "model_module": "@jupyter-widgets/base",
          "model_name": "LayoutModel",
          "model_module_version": "1.2.0",
          "state": {
            "_view_name": "LayoutView",
            "grid_template_rows": null,
            "right": null,
            "justify_content": null,
            "_view_module": "@jupyter-widgets/base",
            "overflow": null,
            "_model_module_version": "1.2.0",
            "_view_count": null,
            "flex_flow": null,
            "width": null,
            "min_width": null,
            "border": null,
            "align_items": null,
            "bottom": null,
            "_model_module": "@jupyter-widgets/base",
            "top": null,
            "grid_column": null,
            "overflow_y": null,
            "overflow_x": null,
            "grid_auto_flow": null,
            "grid_area": null,
            "grid_template_columns": null,
            "flex": null,
            "_model_name": "LayoutModel",
            "justify_items": null,
            "grid_row": null,
            "max_height": null,
            "align_content": null,
            "visibility": null,
            "align_self": null,
            "height": null,
            "min_height": null,
            "padding": null,
            "grid_auto_rows": null,
            "grid_gap": null,
            "max_width": null,
            "order": null,
            "_view_module_version": "1.2.0",
            "grid_template_areas": null,
            "object_position": null,
            "object_fit": null,
            "grid_auto_columns": null,
            "margin": null,
            "display": null,
            "left": null
          }
        },
        "8b718700ed6b40a28d0375e7fcb01173": {
          "model_module": "@jupyter-widgets/controls",
          "model_name": "DescriptionStyleModel",
          "model_module_version": "1.5.0",
          "state": {
            "_view_name": "StyleView",
            "_model_name": "DescriptionStyleModel",
            "description_width": "",
            "_view_module": "@jupyter-widgets/base",
            "_model_module_version": "1.5.0",
            "_view_count": null,
            "_view_module_version": "1.2.0",
            "_model_module": "@jupyter-widgets/controls"
          }
        },
        "b23fb5d35e474906bea69c84c50accbb": {
          "model_module": "@jupyter-widgets/base",
          "model_name": "LayoutModel",
          "model_module_version": "1.2.0",
          "state": {
            "_view_name": "LayoutView",
            "grid_template_rows": null,
            "right": null,
            "justify_content": null,
            "_view_module": "@jupyter-widgets/base",
            "overflow": null,
            "_model_module_version": "1.2.0",
            "_view_count": null,
            "flex_flow": null,
            "width": null,
            "min_width": null,
            "border": null,
            "align_items": null,
            "bottom": null,
            "_model_module": "@jupyter-widgets/base",
            "top": null,
            "grid_column": null,
            "overflow_y": null,
            "overflow_x": null,
            "grid_auto_flow": null,
            "grid_area": null,
            "grid_template_columns": null,
            "flex": null,
            "_model_name": "LayoutModel",
            "justify_items": null,
            "grid_row": null,
            "max_height": null,
            "align_content": null,
            "visibility": null,
            "align_self": null,
            "height": null,
            "min_height": null,
            "padding": null,
            "grid_auto_rows": null,
            "grid_gap": null,
            "max_width": null,
            "order": null,
            "_view_module_version": "1.2.0",
            "grid_template_areas": null,
            "object_position": null,
            "object_fit": null,
            "grid_auto_columns": null,
            "margin": null,
            "display": null,
            "left": null
          }
        },
        "2cd2bf8bab4146b59b23bda4a27b4b80": {
          "model_module": "@jupyter-widgets/controls",
          "model_name": "HBoxModel",
          "model_module_version": "1.5.0",
          "state": {
            "_view_name": "HBoxView",
            "_dom_classes": [],
            "_model_name": "HBoxModel",
            "_view_module": "@jupyter-widgets/controls",
            "_model_module_version": "1.5.0",
            "_view_count": null,
            "_view_module_version": "1.5.0",
            "box_style": "",
            "layout": "IPY_MODEL_09701107eb8046dabda0f6e6cb9022cf",
            "_model_module": "@jupyter-widgets/controls",
            "children": [
              "IPY_MODEL_0b31f8cb2e424e7ab9353b7953a92773",
              "IPY_MODEL_c8638ab193d44eb894ca317bdff1b18b",
              "IPY_MODEL_06d5349e7d994265a9b79627a5172eed"
            ]
          }
        },
        "09701107eb8046dabda0f6e6cb9022cf": {
          "model_module": "@jupyter-widgets/base",
          "model_name": "LayoutModel",
          "model_module_version": "1.2.0",
          "state": {
            "_view_name": "LayoutView",
            "grid_template_rows": null,
            "right": null,
            "justify_content": null,
            "_view_module": "@jupyter-widgets/base",
            "overflow": null,
            "_model_module_version": "1.2.0",
            "_view_count": null,
            "flex_flow": null,
            "width": null,
            "min_width": null,
            "border": null,
            "align_items": null,
            "bottom": null,
            "_model_module": "@jupyter-widgets/base",
            "top": null,
            "grid_column": null,
            "overflow_y": null,
            "overflow_x": null,
            "grid_auto_flow": null,
            "grid_area": null,
            "grid_template_columns": null,
            "flex": null,
            "_model_name": "LayoutModel",
            "justify_items": null,
            "grid_row": null,
            "max_height": null,
            "align_content": null,
            "visibility": null,
            "align_self": null,
            "height": null,
            "min_height": null,
            "padding": null,
            "grid_auto_rows": null,
            "grid_gap": null,
            "max_width": null,
            "order": null,
            "_view_module_version": "1.2.0",
            "grid_template_areas": null,
            "object_position": null,
            "object_fit": null,
            "grid_auto_columns": null,
            "margin": null,
            "display": null,
            "left": null
          }
        },
        "0b31f8cb2e424e7ab9353b7953a92773": {
          "model_module": "@jupyter-widgets/controls",
          "model_name": "HTMLModel",
          "model_module_version": "1.5.0",
          "state": {
            "_view_name": "HTMLView",
            "style": "IPY_MODEL_d0e80a9c73f74f5d92a5ce84b37c47bb",
            "_dom_classes": [],
            "description": "",
            "_model_name": "HTMLModel",
            "placeholder": "​",
            "_view_module": "@jupyter-widgets/controls",
            "_model_module_version": "1.5.0",
            "value": "",
            "_view_count": null,
            "_view_module_version": "1.5.0",
            "description_tooltip": null,
            "_model_module": "@jupyter-widgets/controls",
            "layout": "IPY_MODEL_73b20b3181d6434fb5dfaf8bf0c3953b"
          }
        },
        "c8638ab193d44eb894ca317bdff1b18b": {
          "model_module": "@jupyter-widgets/controls",
          "model_name": "FloatProgressModel",
          "model_module_version": "1.5.0",
          "state": {
            "_view_name": "ProgressView",
            "style": "IPY_MODEL_3f4d0a7ea57a472580d2e10662bb35bf",
            "_dom_classes": [],
            "description": "",
            "_model_name": "FloatProgressModel",
            "bar_style": "success",
            "max": 29515,
            "_view_module": "@jupyter-widgets/controls",
            "_model_module_version": "1.5.0",
            "value": 29515,
            "_view_count": null,
            "_view_module_version": "1.5.0",
            "orientation": "horizontal",
            "min": 0,
            "description_tooltip": null,
            "_model_module": "@jupyter-widgets/controls",
            "layout": "IPY_MODEL_1293eed88dc046a7a52a256c38df506f"
          }
        },
        "06d5349e7d994265a9b79627a5172eed": {
          "model_module": "@jupyter-widgets/controls",
          "model_name": "HTMLModel",
          "model_module_version": "1.5.0",
          "state": {
            "_view_name": "HTMLView",
            "style": "IPY_MODEL_bea3f6bce03846fdae6b658ec87d0af8",
            "_dom_classes": [],
            "description": "",
            "_model_name": "HTMLModel",
            "placeholder": "​",
            "_view_module": "@jupyter-widgets/controls",
            "_model_module_version": "1.5.0",
            "value": " 29696/? [00:00&lt;00:00, 134492.42it/s]",
            "_view_count": null,
            "_view_module_version": "1.5.0",
            "description_tooltip": null,
            "_model_module": "@jupyter-widgets/controls",
            "layout": "IPY_MODEL_257f8143e7ac4ff3b9a6fc4cd4278777"
          }
        },
        "d0e80a9c73f74f5d92a5ce84b37c47bb": {
          "model_module": "@jupyter-widgets/controls",
          "model_name": "DescriptionStyleModel",
          "model_module_version": "1.5.0",
          "state": {
            "_view_name": "StyleView",
            "_model_name": "DescriptionStyleModel",
            "description_width": "",
            "_view_module": "@jupyter-widgets/base",
            "_model_module_version": "1.5.0",
            "_view_count": null,
            "_view_module_version": "1.2.0",
            "_model_module": "@jupyter-widgets/controls"
          }
        },
        "73b20b3181d6434fb5dfaf8bf0c3953b": {
          "model_module": "@jupyter-widgets/base",
          "model_name": "LayoutModel",
          "model_module_version": "1.2.0",
          "state": {
            "_view_name": "LayoutView",
            "grid_template_rows": null,
            "right": null,
            "justify_content": null,
            "_view_module": "@jupyter-widgets/base",
            "overflow": null,
            "_model_module_version": "1.2.0",
            "_view_count": null,
            "flex_flow": null,
            "width": null,
            "min_width": null,
            "border": null,
            "align_items": null,
            "bottom": null,
            "_model_module": "@jupyter-widgets/base",
            "top": null,
            "grid_column": null,
            "overflow_y": null,
            "overflow_x": null,
            "grid_auto_flow": null,
            "grid_area": null,
            "grid_template_columns": null,
            "flex": null,
            "_model_name": "LayoutModel",
            "justify_items": null,
            "grid_row": null,
            "max_height": null,
            "align_content": null,
            "visibility": null,
            "align_self": null,
            "height": null,
            "min_height": null,
            "padding": null,
            "grid_auto_rows": null,
            "grid_gap": null,
            "max_width": null,
            "order": null,
            "_view_module_version": "1.2.0",
            "grid_template_areas": null,
            "object_position": null,
            "object_fit": null,
            "grid_auto_columns": null,
            "margin": null,
            "display": null,
            "left": null
          }
        },
        "3f4d0a7ea57a472580d2e10662bb35bf": {
          "model_module": "@jupyter-widgets/controls",
          "model_name": "ProgressStyleModel",
          "model_module_version": "1.5.0",
          "state": {
            "_view_name": "StyleView",
            "_model_name": "ProgressStyleModel",
            "description_width": "",
            "_view_module": "@jupyter-widgets/base",
            "_model_module_version": "1.5.0",
            "_view_count": null,
            "_view_module_version": "1.2.0",
            "bar_color": null,
            "_model_module": "@jupyter-widgets/controls"
          }
        },
        "1293eed88dc046a7a52a256c38df506f": {
          "model_module": "@jupyter-widgets/base",
          "model_name": "LayoutModel",
          "model_module_version": "1.2.0",
          "state": {
            "_view_name": "LayoutView",
            "grid_template_rows": null,
            "right": null,
            "justify_content": null,
            "_view_module": "@jupyter-widgets/base",
            "overflow": null,
            "_model_module_version": "1.2.0",
            "_view_count": null,
            "flex_flow": null,
            "width": null,
            "min_width": null,
            "border": null,
            "align_items": null,
            "bottom": null,
            "_model_module": "@jupyter-widgets/base",
            "top": null,
            "grid_column": null,
            "overflow_y": null,
            "overflow_x": null,
            "grid_auto_flow": null,
            "grid_area": null,
            "grid_template_columns": null,
            "flex": null,
            "_model_name": "LayoutModel",
            "justify_items": null,
            "grid_row": null,
            "max_height": null,
            "align_content": null,
            "visibility": null,
            "align_self": null,
            "height": null,
            "min_height": null,
            "padding": null,
            "grid_auto_rows": null,
            "grid_gap": null,
            "max_width": null,
            "order": null,
            "_view_module_version": "1.2.0",
            "grid_template_areas": null,
            "object_position": null,
            "object_fit": null,
            "grid_auto_columns": null,
            "margin": null,
            "display": null,
            "left": null
          }
        },
        "bea3f6bce03846fdae6b658ec87d0af8": {
          "model_module": "@jupyter-widgets/controls",
          "model_name": "DescriptionStyleModel",
          "model_module_version": "1.5.0",
          "state": {
            "_view_name": "StyleView",
            "_model_name": "DescriptionStyleModel",
            "description_width": "",
            "_view_module": "@jupyter-widgets/base",
            "_model_module_version": "1.5.0",
            "_view_count": null,
            "_view_module_version": "1.2.0",
            "_model_module": "@jupyter-widgets/controls"
          }
        },
        "257f8143e7ac4ff3b9a6fc4cd4278777": {
          "model_module": "@jupyter-widgets/base",
          "model_name": "LayoutModel",
          "model_module_version": "1.2.0",
          "state": {
            "_view_name": "LayoutView",
            "grid_template_rows": null,
            "right": null,
            "justify_content": null,
            "_view_module": "@jupyter-widgets/base",
            "overflow": null,
            "_model_module_version": "1.2.0",
            "_view_count": null,
            "flex_flow": null,
            "width": null,
            "min_width": null,
            "border": null,
            "align_items": null,
            "bottom": null,
            "_model_module": "@jupyter-widgets/base",
            "top": null,
            "grid_column": null,
            "overflow_y": null,
            "overflow_x": null,
            "grid_auto_flow": null,
            "grid_area": null,
            "grid_template_columns": null,
            "flex": null,
            "_model_name": "LayoutModel",
            "justify_items": null,
            "grid_row": null,
            "max_height": null,
            "align_content": null,
            "visibility": null,
            "align_self": null,
            "height": null,
            "min_height": null,
            "padding": null,
            "grid_auto_rows": null,
            "grid_gap": null,
            "max_width": null,
            "order": null,
            "_view_module_version": "1.2.0",
            "grid_template_areas": null,
            "object_position": null,
            "object_fit": null,
            "grid_auto_columns": null,
            "margin": null,
            "display": null,
            "left": null
          }
        },
        "d9336bb63420410c87fb7eccad4a207c": {
          "model_module": "@jupyter-widgets/controls",
          "model_name": "HBoxModel",
          "model_module_version": "1.5.0",
          "state": {
            "_view_name": "HBoxView",
            "_dom_classes": [],
            "_model_name": "HBoxModel",
            "_view_module": "@jupyter-widgets/controls",
            "_model_module_version": "1.5.0",
            "_view_count": null,
            "_view_module_version": "1.5.0",
            "box_style": "",
            "layout": "IPY_MODEL_af0f60adc1aa451fbe0e00c4b582eccc",
            "_model_module": "@jupyter-widgets/controls",
            "children": [
              "IPY_MODEL_e36c970018684b37b055b1e943c25d6b",
              "IPY_MODEL_630cfe5a336a481eb62563977c3e1d67",
              "IPY_MODEL_938d753d317f478ab6db92c7bfcd3198"
            ]
          }
        },
        "af0f60adc1aa451fbe0e00c4b582eccc": {
          "model_module": "@jupyter-widgets/base",
          "model_name": "LayoutModel",
          "model_module_version": "1.2.0",
          "state": {
            "_view_name": "LayoutView",
            "grid_template_rows": null,
            "right": null,
            "justify_content": null,
            "_view_module": "@jupyter-widgets/base",
            "overflow": null,
            "_model_module_version": "1.2.0",
            "_view_count": null,
            "flex_flow": null,
            "width": null,
            "min_width": null,
            "border": null,
            "align_items": null,
            "bottom": null,
            "_model_module": "@jupyter-widgets/base",
            "top": null,
            "grid_column": null,
            "overflow_y": null,
            "overflow_x": null,
            "grid_auto_flow": null,
            "grid_area": null,
            "grid_template_columns": null,
            "flex": null,
            "_model_name": "LayoutModel",
            "justify_items": null,
            "grid_row": null,
            "max_height": null,
            "align_content": null,
            "visibility": null,
            "align_self": null,
            "height": null,
            "min_height": null,
            "padding": null,
            "grid_auto_rows": null,
            "grid_gap": null,
            "max_width": null,
            "order": null,
            "_view_module_version": "1.2.0",
            "grid_template_areas": null,
            "object_position": null,
            "object_fit": null,
            "grid_auto_columns": null,
            "margin": null,
            "display": null,
            "left": null
          }
        },
        "e36c970018684b37b055b1e943c25d6b": {
          "model_module": "@jupyter-widgets/controls",
          "model_name": "HTMLModel",
          "model_module_version": "1.5.0",
          "state": {
            "_view_name": "HTMLView",
            "style": "IPY_MODEL_a37fc86f26cd48fd9e0ef456454fcea0",
            "_dom_classes": [],
            "description": "",
            "_model_name": "HTMLModel",
            "placeholder": "​",
            "_view_module": "@jupyter-widgets/controls",
            "_model_module_version": "1.5.0",
            "value": "",
            "_view_count": null,
            "_view_module_version": "1.5.0",
            "description_tooltip": null,
            "_model_module": "@jupyter-widgets/controls",
            "layout": "IPY_MODEL_048c167fb86347c99049c839be694d34"
          }
        },
        "630cfe5a336a481eb62563977c3e1d67": {
          "model_module": "@jupyter-widgets/controls",
          "model_name": "FloatProgressModel",
          "model_module_version": "1.5.0",
          "state": {
            "_view_name": "ProgressView",
            "style": "IPY_MODEL_67402e2530db4f76b42acacd4291ada2",
            "_dom_classes": [],
            "description": "",
            "_model_name": "FloatProgressModel",
            "bar_style": "success",
            "max": 4422102,
            "_view_module": "@jupyter-widgets/controls",
            "_model_module_version": "1.5.0",
            "value": 4422102,
            "_view_count": null,
            "_view_module_version": "1.5.0",
            "orientation": "horizontal",
            "min": 0,
            "description_tooltip": null,
            "_model_module": "@jupyter-widgets/controls",
            "layout": "IPY_MODEL_3b17850a4ff3477ab3440cbf7ac5d566"
          }
        },
        "938d753d317f478ab6db92c7bfcd3198": {
          "model_module": "@jupyter-widgets/controls",
          "model_name": "HTMLModel",
          "model_module_version": "1.5.0",
          "state": {
            "_view_name": "HTMLView",
            "style": "IPY_MODEL_e0e8f0923d694be2a3e909e7af07eb03",
            "_dom_classes": [],
            "description": "",
            "_model_name": "HTMLModel",
            "placeholder": "​",
            "_view_module": "@jupyter-widgets/controls",
            "_model_module_version": "1.5.0",
            "value": " 4422656/? [00:00&lt;00:00, 7741092.41it/s]",
            "_view_count": null,
            "_view_module_version": "1.5.0",
            "description_tooltip": null,
            "_model_module": "@jupyter-widgets/controls",
            "layout": "IPY_MODEL_52fd8efdf66145bf8dbe61ff8407bcbf"
          }
        },
        "a37fc86f26cd48fd9e0ef456454fcea0": {
          "model_module": "@jupyter-widgets/controls",
          "model_name": "DescriptionStyleModel",
          "model_module_version": "1.5.0",
          "state": {
            "_view_name": "StyleView",
            "_model_name": "DescriptionStyleModel",
            "description_width": "",
            "_view_module": "@jupyter-widgets/base",
            "_model_module_version": "1.5.0",
            "_view_count": null,
            "_view_module_version": "1.2.0",
            "_model_module": "@jupyter-widgets/controls"
          }
        },
        "048c167fb86347c99049c839be694d34": {
          "model_module": "@jupyter-widgets/base",
          "model_name": "LayoutModel",
          "model_module_version": "1.2.0",
          "state": {
            "_view_name": "LayoutView",
            "grid_template_rows": null,
            "right": null,
            "justify_content": null,
            "_view_module": "@jupyter-widgets/base",
            "overflow": null,
            "_model_module_version": "1.2.0",
            "_view_count": null,
            "flex_flow": null,
            "width": null,
            "min_width": null,
            "border": null,
            "align_items": null,
            "bottom": null,
            "_model_module": "@jupyter-widgets/base",
            "top": null,
            "grid_column": null,
            "overflow_y": null,
            "overflow_x": null,
            "grid_auto_flow": null,
            "grid_area": null,
            "grid_template_columns": null,
            "flex": null,
            "_model_name": "LayoutModel",
            "justify_items": null,
            "grid_row": null,
            "max_height": null,
            "align_content": null,
            "visibility": null,
            "align_self": null,
            "height": null,
            "min_height": null,
            "padding": null,
            "grid_auto_rows": null,
            "grid_gap": null,
            "max_width": null,
            "order": null,
            "_view_module_version": "1.2.0",
            "grid_template_areas": null,
            "object_position": null,
            "object_fit": null,
            "grid_auto_columns": null,
            "margin": null,
            "display": null,
            "left": null
          }
        },
        "67402e2530db4f76b42acacd4291ada2": {
          "model_module": "@jupyter-widgets/controls",
          "model_name": "ProgressStyleModel",
          "model_module_version": "1.5.0",
          "state": {
            "_view_name": "StyleView",
            "_model_name": "ProgressStyleModel",
            "description_width": "",
            "_view_module": "@jupyter-widgets/base",
            "_model_module_version": "1.5.0",
            "_view_count": null,
            "_view_module_version": "1.2.0",
            "bar_color": null,
            "_model_module": "@jupyter-widgets/controls"
          }
        },
        "3b17850a4ff3477ab3440cbf7ac5d566": {
          "model_module": "@jupyter-widgets/base",
          "model_name": "LayoutModel",
          "model_module_version": "1.2.0",
          "state": {
            "_view_name": "LayoutView",
            "grid_template_rows": null,
            "right": null,
            "justify_content": null,
            "_view_module": "@jupyter-widgets/base",
            "overflow": null,
            "_model_module_version": "1.2.0",
            "_view_count": null,
            "flex_flow": null,
            "width": null,
            "min_width": null,
            "border": null,
            "align_items": null,
            "bottom": null,
            "_model_module": "@jupyter-widgets/base",
            "top": null,
            "grid_column": null,
            "overflow_y": null,
            "overflow_x": null,
            "grid_auto_flow": null,
            "grid_area": null,
            "grid_template_columns": null,
            "flex": null,
            "_model_name": "LayoutModel",
            "justify_items": null,
            "grid_row": null,
            "max_height": null,
            "align_content": null,
            "visibility": null,
            "align_self": null,
            "height": null,
            "min_height": null,
            "padding": null,
            "grid_auto_rows": null,
            "grid_gap": null,
            "max_width": null,
            "order": null,
            "_view_module_version": "1.2.0",
            "grid_template_areas": null,
            "object_position": null,
            "object_fit": null,
            "grid_auto_columns": null,
            "margin": null,
            "display": null,
            "left": null
          }
        },
        "e0e8f0923d694be2a3e909e7af07eb03": {
          "model_module": "@jupyter-widgets/controls",
          "model_name": "DescriptionStyleModel",
          "model_module_version": "1.5.0",
          "state": {
            "_view_name": "StyleView",
            "_model_name": "DescriptionStyleModel",
            "description_width": "",
            "_view_module": "@jupyter-widgets/base",
            "_model_module_version": "1.5.0",
            "_view_count": null,
            "_view_module_version": "1.2.0",
            "_model_module": "@jupyter-widgets/controls"
          }
        },
        "52fd8efdf66145bf8dbe61ff8407bcbf": {
          "model_module": "@jupyter-widgets/base",
          "model_name": "LayoutModel",
          "model_module_version": "1.2.0",
          "state": {
            "_view_name": "LayoutView",
            "grid_template_rows": null,
            "right": null,
            "justify_content": null,
            "_view_module": "@jupyter-widgets/base",
            "overflow": null,
            "_model_module_version": "1.2.0",
            "_view_count": null,
            "flex_flow": null,
            "width": null,
            "min_width": null,
            "border": null,
            "align_items": null,
            "bottom": null,
            "_model_module": "@jupyter-widgets/base",
            "top": null,
            "grid_column": null,
            "overflow_y": null,
            "overflow_x": null,
            "grid_auto_flow": null,
            "grid_area": null,
            "grid_template_columns": null,
            "flex": null,
            "_model_name": "LayoutModel",
            "justify_items": null,
            "grid_row": null,
            "max_height": null,
            "align_content": null,
            "visibility": null,
            "align_self": null,
            "height": null,
            "min_height": null,
            "padding": null,
            "grid_auto_rows": null,
            "grid_gap": null,
            "max_width": null,
            "order": null,
            "_view_module_version": "1.2.0",
            "grid_template_areas": null,
            "object_position": null,
            "object_fit": null,
            "grid_auto_columns": null,
            "margin": null,
            "display": null,
            "left": null
          }
        },
        "9aa43ed4e4f8456fac278a3409bed7a6": {
          "model_module": "@jupyter-widgets/controls",
          "model_name": "HBoxModel",
          "model_module_version": "1.5.0",
          "state": {
            "_view_name": "HBoxView",
            "_dom_classes": [],
            "_model_name": "HBoxModel",
            "_view_module": "@jupyter-widgets/controls",
            "_model_module_version": "1.5.0",
            "_view_count": null,
            "_view_module_version": "1.5.0",
            "box_style": "",
            "layout": "IPY_MODEL_b1b30663f76e4846accadbd1ec7d80f7",
            "_model_module": "@jupyter-widgets/controls",
            "children": [
              "IPY_MODEL_75ad444a39734427a8d0a04a95a0e61f",
              "IPY_MODEL_ecb1b51ffb8b454cbe3a820aea117e51",
              "IPY_MODEL_52100e6bf0894c0d973422d06d366c95"
            ]
          }
        },
        "b1b30663f76e4846accadbd1ec7d80f7": {
          "model_module": "@jupyter-widgets/base",
          "model_name": "LayoutModel",
          "model_module_version": "1.2.0",
          "state": {
            "_view_name": "LayoutView",
            "grid_template_rows": null,
            "right": null,
            "justify_content": null,
            "_view_module": "@jupyter-widgets/base",
            "overflow": null,
            "_model_module_version": "1.2.0",
            "_view_count": null,
            "flex_flow": null,
            "width": null,
            "min_width": null,
            "border": null,
            "align_items": null,
            "bottom": null,
            "_model_module": "@jupyter-widgets/base",
            "top": null,
            "grid_column": null,
            "overflow_y": null,
            "overflow_x": null,
            "grid_auto_flow": null,
            "grid_area": null,
            "grid_template_columns": null,
            "flex": null,
            "_model_name": "LayoutModel",
            "justify_items": null,
            "grid_row": null,
            "max_height": null,
            "align_content": null,
            "visibility": null,
            "align_self": null,
            "height": null,
            "min_height": null,
            "padding": null,
            "grid_auto_rows": null,
            "grid_gap": null,
            "max_width": null,
            "order": null,
            "_view_module_version": "1.2.0",
            "grid_template_areas": null,
            "object_position": null,
            "object_fit": null,
            "grid_auto_columns": null,
            "margin": null,
            "display": null,
            "left": null
          }
        },
        "75ad444a39734427a8d0a04a95a0e61f": {
          "model_module": "@jupyter-widgets/controls",
          "model_name": "HTMLModel",
          "model_module_version": "1.5.0",
          "state": {
            "_view_name": "HTMLView",
            "style": "IPY_MODEL_e657101199be404f8bfcd88a790d7d63",
            "_dom_classes": [],
            "description": "",
            "_model_name": "HTMLModel",
            "placeholder": "​",
            "_view_module": "@jupyter-widgets/controls",
            "_model_module_version": "1.5.0",
            "value": "",
            "_view_count": null,
            "_view_module_version": "1.5.0",
            "description_tooltip": null,
            "_model_module": "@jupyter-widgets/controls",
            "layout": "IPY_MODEL_63b097edb13343149ac77e043983c6c2"
          }
        },
        "ecb1b51ffb8b454cbe3a820aea117e51": {
          "model_module": "@jupyter-widgets/controls",
          "model_name": "FloatProgressModel",
          "model_module_version": "1.5.0",
          "state": {
            "_view_name": "ProgressView",
            "style": "IPY_MODEL_a2d0a57a1a8b4b8c93efa8f549633606",
            "_dom_classes": [],
            "description": "",
            "_model_name": "FloatProgressModel",
            "bar_style": "success",
            "max": 5148,
            "_view_module": "@jupyter-widgets/controls",
            "_model_module_version": "1.5.0",
            "value": 5148,
            "_view_count": null,
            "_view_module_version": "1.5.0",
            "orientation": "horizontal",
            "min": 0,
            "description_tooltip": null,
            "_model_module": "@jupyter-widgets/controls",
            "layout": "IPY_MODEL_d2a9964334974ea18533df71929d3397"
          }
        },
        "52100e6bf0894c0d973422d06d366c95": {
          "model_module": "@jupyter-widgets/controls",
          "model_name": "HTMLModel",
          "model_module_version": "1.5.0",
          "state": {
            "_view_name": "HTMLView",
            "style": "IPY_MODEL_2b26813fab2344178896eec981c6882a",
            "_dom_classes": [],
            "description": "",
            "_model_name": "HTMLModel",
            "placeholder": "​",
            "_view_module": "@jupyter-widgets/controls",
            "_model_module_version": "1.5.0",
            "value": " 6144/? [00:00&lt;00:00, 159199.63it/s]",
            "_view_count": null,
            "_view_module_version": "1.5.0",
            "description_tooltip": null,
            "_model_module": "@jupyter-widgets/controls",
            "layout": "IPY_MODEL_9d50862edcd24cf79317a8e21c7092ec"
          }
        },
        "e657101199be404f8bfcd88a790d7d63": {
          "model_module": "@jupyter-widgets/controls",
          "model_name": "DescriptionStyleModel",
          "model_module_version": "1.5.0",
          "state": {
            "_view_name": "StyleView",
            "_model_name": "DescriptionStyleModel",
            "description_width": "",
            "_view_module": "@jupyter-widgets/base",
            "_model_module_version": "1.5.0",
            "_view_count": null,
            "_view_module_version": "1.2.0",
            "_model_module": "@jupyter-widgets/controls"
          }
        },
        "63b097edb13343149ac77e043983c6c2": {
          "model_module": "@jupyter-widgets/base",
          "model_name": "LayoutModel",
          "model_module_version": "1.2.0",
          "state": {
            "_view_name": "LayoutView",
            "grid_template_rows": null,
            "right": null,
            "justify_content": null,
            "_view_module": "@jupyter-widgets/base",
            "overflow": null,
            "_model_module_version": "1.2.0",
            "_view_count": null,
            "flex_flow": null,
            "width": null,
            "min_width": null,
            "border": null,
            "align_items": null,
            "bottom": null,
            "_model_module": "@jupyter-widgets/base",
            "top": null,
            "grid_column": null,
            "overflow_y": null,
            "overflow_x": null,
            "grid_auto_flow": null,
            "grid_area": null,
            "grid_template_columns": null,
            "flex": null,
            "_model_name": "LayoutModel",
            "justify_items": null,
            "grid_row": null,
            "max_height": null,
            "align_content": null,
            "visibility": null,
            "align_self": null,
            "height": null,
            "min_height": null,
            "padding": null,
            "grid_auto_rows": null,
            "grid_gap": null,
            "max_width": null,
            "order": null,
            "_view_module_version": "1.2.0",
            "grid_template_areas": null,
            "object_position": null,
            "object_fit": null,
            "grid_auto_columns": null,
            "margin": null,
            "display": null,
            "left": null
          }
        },
        "a2d0a57a1a8b4b8c93efa8f549633606": {
          "model_module": "@jupyter-widgets/controls",
          "model_name": "ProgressStyleModel",
          "model_module_version": "1.5.0",
          "state": {
            "_view_name": "StyleView",
            "_model_name": "ProgressStyleModel",
            "description_width": "",
            "_view_module": "@jupyter-widgets/base",
            "_model_module_version": "1.5.0",
            "_view_count": null,
            "_view_module_version": "1.2.0",
            "bar_color": null,
            "_model_module": "@jupyter-widgets/controls"
          }
        },
        "d2a9964334974ea18533df71929d3397": {
          "model_module": "@jupyter-widgets/base",
          "model_name": "LayoutModel",
          "model_module_version": "1.2.0",
          "state": {
            "_view_name": "LayoutView",
            "grid_template_rows": null,
            "right": null,
            "justify_content": null,
            "_view_module": "@jupyter-widgets/base",
            "overflow": null,
            "_model_module_version": "1.2.0",
            "_view_count": null,
            "flex_flow": null,
            "width": null,
            "min_width": null,
            "border": null,
            "align_items": null,
            "bottom": null,
            "_model_module": "@jupyter-widgets/base",
            "top": null,
            "grid_column": null,
            "overflow_y": null,
            "overflow_x": null,
            "grid_auto_flow": null,
            "grid_area": null,
            "grid_template_columns": null,
            "flex": null,
            "_model_name": "LayoutModel",
            "justify_items": null,
            "grid_row": null,
            "max_height": null,
            "align_content": null,
            "visibility": null,
            "align_self": null,
            "height": null,
            "min_height": null,
            "padding": null,
            "grid_auto_rows": null,
            "grid_gap": null,
            "max_width": null,
            "order": null,
            "_view_module_version": "1.2.0",
            "grid_template_areas": null,
            "object_position": null,
            "object_fit": null,
            "grid_auto_columns": null,
            "margin": null,
            "display": null,
            "left": null
          }
        },
        "2b26813fab2344178896eec981c6882a": {
          "model_module": "@jupyter-widgets/controls",
          "model_name": "DescriptionStyleModel",
          "model_module_version": "1.5.0",
          "state": {
            "_view_name": "StyleView",
            "_model_name": "DescriptionStyleModel",
            "description_width": "",
            "_view_module": "@jupyter-widgets/base",
            "_model_module_version": "1.5.0",
            "_view_count": null,
            "_view_module_version": "1.2.0",
            "_model_module": "@jupyter-widgets/controls"
          }
        },
        "9d50862edcd24cf79317a8e21c7092ec": {
          "model_module": "@jupyter-widgets/base",
          "model_name": "LayoutModel",
          "model_module_version": "1.2.0",
          "state": {
            "_view_name": "LayoutView",
            "grid_template_rows": null,
            "right": null,
            "justify_content": null,
            "_view_module": "@jupyter-widgets/base",
            "overflow": null,
            "_model_module_version": "1.2.0",
            "_view_count": null,
            "flex_flow": null,
            "width": null,
            "min_width": null,
            "border": null,
            "align_items": null,
            "bottom": null,
            "_model_module": "@jupyter-widgets/base",
            "top": null,
            "grid_column": null,
            "overflow_y": null,
            "overflow_x": null,
            "grid_auto_flow": null,
            "grid_area": null,
            "grid_template_columns": null,
            "flex": null,
            "_model_name": "LayoutModel",
            "justify_items": null,
            "grid_row": null,
            "max_height": null,
            "align_content": null,
            "visibility": null,
            "align_self": null,
            "height": null,
            "min_height": null,
            "padding": null,
            "grid_auto_rows": null,
            "grid_gap": null,
            "max_width": null,
            "order": null,
            "_view_module_version": "1.2.0",
            "grid_template_areas": null,
            "object_position": null,
            "object_fit": null,
            "grid_auto_columns": null,
            "margin": null,
            "display": null,
            "left": null
          }
        }
      }
    }
  },
  "cells": [
    {
      "cell_type": "markdown",
      "metadata": {
        "id": "ezjWeWD7WsxU"
      },
      "source": [
        " # FashionMNIST\n",
        "\n",
        " ## Задание 7.2"
      ]
    },
    {
      "cell_type": "markdown",
      "metadata": {
        "id": "AygNFOvoWsxY"
      },
      "source": [
        "<img src=\"https://emiliendupont.github.io/imgs/mnist-chicken/mnist-and-fashion-examples.png\">"
      ]
    },
    {
      "cell_type": "markdown",
      "metadata": {
        "id": "YNF5C2b_Wsxh"
      },
      "source": [
        "На практике построим нейронную сеть для классификации картиной. В качестве входных данных используются картинки одежды (в градациях серого, то есть цветовых каналов не 3, а 1). По входной картинке нужно предсказать тип одежды."
      ]
    },
    {
      "cell_type": "code",
      "metadata": {
        "id": "2IYPMzDudZeN"
      },
      "source": [
        "# !pip install torchvision\n",
        "\n",
        "import numpy as np\n",
        "import pandas as pd\n",
        "import matplotlib.pyplot as plt\n",
        "\n",
        "import torch\n",
        "import torchvision"
      ],
      "execution_count": 1,
      "outputs": []
    },
    {
      "cell_type": "markdown",
      "metadata": {
        "id": "ZEr2x6meSqNj"
      },
      "source": [
        "Скачаем обучающую и контрольную выборки."
      ]
    },
    {
      "cell_type": "code",
      "metadata": {
        "id": "FCedv50ReIUZ",
        "colab": {
          "base_uri": "https://localhost:8080/",
          "height": 423,
          "referenced_widgets": [
            "dd329a18263b4072a7574cfe25829a43",
            "37e501bda7ce4fa99fe1173b8753d676",
            "e2a86830bb024c1880eeec6ddfb01555",
            "c5dff33b3d654b82b85fc01ed89352fc",
            "4dbac8f98cea483e938e93296d87431d",
            "3817d63aefa0469bba999745488678d2",
            "83dbb9f323404ec691b4b5f5eaf65c1f",
            "4adeade535f04e5a9b16151c35109c64",
            "58abb55976ba44eaa63d8ef30677e88d",
            "8b718700ed6b40a28d0375e7fcb01173",
            "b23fb5d35e474906bea69c84c50accbb",
            "2cd2bf8bab4146b59b23bda4a27b4b80",
            "09701107eb8046dabda0f6e6cb9022cf",
            "0b31f8cb2e424e7ab9353b7953a92773",
            "c8638ab193d44eb894ca317bdff1b18b",
            "06d5349e7d994265a9b79627a5172eed",
            "d0e80a9c73f74f5d92a5ce84b37c47bb",
            "73b20b3181d6434fb5dfaf8bf0c3953b",
            "3f4d0a7ea57a472580d2e10662bb35bf",
            "1293eed88dc046a7a52a256c38df506f",
            "bea3f6bce03846fdae6b658ec87d0af8",
            "257f8143e7ac4ff3b9a6fc4cd4278777",
            "d9336bb63420410c87fb7eccad4a207c",
            "af0f60adc1aa451fbe0e00c4b582eccc",
            "e36c970018684b37b055b1e943c25d6b",
            "630cfe5a336a481eb62563977c3e1d67",
            "938d753d317f478ab6db92c7bfcd3198",
            "a37fc86f26cd48fd9e0ef456454fcea0",
            "048c167fb86347c99049c839be694d34",
            "67402e2530db4f76b42acacd4291ada2",
            "3b17850a4ff3477ab3440cbf7ac5d566",
            "e0e8f0923d694be2a3e909e7af07eb03",
            "52fd8efdf66145bf8dbe61ff8407bcbf",
            "9aa43ed4e4f8456fac278a3409bed7a6",
            "b1b30663f76e4846accadbd1ec7d80f7",
            "75ad444a39734427a8d0a04a95a0e61f",
            "ecb1b51ffb8b454cbe3a820aea117e51",
            "52100e6bf0894c0d973422d06d366c95",
            "e657101199be404f8bfcd88a790d7d63",
            "63b097edb13343149ac77e043983c6c2",
            "a2d0a57a1a8b4b8c93efa8f549633606",
            "d2a9964334974ea18533df71929d3397",
            "2b26813fab2344178896eec981c6882a",
            "9d50862edcd24cf79317a8e21c7092ec"
          ]
        },
        "outputId": "5e49eee8-d42b-40d1-f21a-891e05cd38be"
      },
      "source": [
        "import torch\n",
        "from torchvision import datasets, transforms\n",
        "import helper\n",
        "\n",
        "transform = transforms.Compose([transforms.ToTensor(),\n",
        "                                transforms.Normalize([0.5], [0.5])])\n",
        "\n",
        "trainset = datasets.FashionMNIST(root='./data', download=True, train=True, transform=transform)\n",
        "trainloader = torch.utils.data.DataLoader(trainset, batch_size=100, shuffle=True)\n",
        "\n",
        "testset = datasets.FashionMNIST(root='./data', download=True, train=False, transform=transform)\n",
        "testloader = torch.utils.data.DataLoader(testset, batch_size=100, shuffle=True)"
      ],
      "execution_count": 304,
      "outputs": [
        {
          "output_type": "stream",
          "name": "stdout",
          "text": [
            "Downloading http://fashion-mnist.s3-website.eu-central-1.amazonaws.com/train-images-idx3-ubyte.gz\n",
            "Downloading http://fashion-mnist.s3-website.eu-central-1.amazonaws.com/train-images-idx3-ubyte.gz to ./data/FashionMNIST/raw/train-images-idx3-ubyte.gz\n"
          ]
        },
        {
          "output_type": "display_data",
          "data": {
            "application/vnd.jupyter.widget-view+json": {
              "model_id": "dd329a18263b4072a7574cfe25829a43",
              "version_minor": 0,
              "version_major": 2
            },
            "text/plain": [
              "  0%|          | 0/26421880 [00:00<?, ?it/s]"
            ]
          },
          "metadata": {}
        },
        {
          "output_type": "stream",
          "name": "stdout",
          "text": [
            "Extracting ./data/FashionMNIST/raw/train-images-idx3-ubyte.gz to ./data/FashionMNIST/raw\n",
            "\n",
            "Downloading http://fashion-mnist.s3-website.eu-central-1.amazonaws.com/train-labels-idx1-ubyte.gz\n",
            "Downloading http://fashion-mnist.s3-website.eu-central-1.amazonaws.com/train-labels-idx1-ubyte.gz to ./data/FashionMNIST/raw/train-labels-idx1-ubyte.gz\n"
          ]
        },
        {
          "output_type": "display_data",
          "data": {
            "application/vnd.jupyter.widget-view+json": {
              "model_id": "2cd2bf8bab4146b59b23bda4a27b4b80",
              "version_minor": 0,
              "version_major": 2
            },
            "text/plain": [
              "  0%|          | 0/29515 [00:00<?, ?it/s]"
            ]
          },
          "metadata": {}
        },
        {
          "output_type": "stream",
          "name": "stdout",
          "text": [
            "Extracting ./data/FashionMNIST/raw/train-labels-idx1-ubyte.gz to ./data/FashionMNIST/raw\n",
            "\n",
            "Downloading http://fashion-mnist.s3-website.eu-central-1.amazonaws.com/t10k-images-idx3-ubyte.gz\n",
            "Downloading http://fashion-mnist.s3-website.eu-central-1.amazonaws.com/t10k-images-idx3-ubyte.gz to ./data/FashionMNIST/raw/t10k-images-idx3-ubyte.gz\n"
          ]
        },
        {
          "output_type": "display_data",
          "data": {
            "application/vnd.jupyter.widget-view+json": {
              "model_id": "d9336bb63420410c87fb7eccad4a207c",
              "version_minor": 0,
              "version_major": 2
            },
            "text/plain": [
              "  0%|          | 0/4422102 [00:00<?, ?it/s]"
            ]
          },
          "metadata": {}
        },
        {
          "output_type": "stream",
          "name": "stdout",
          "text": [
            "Extracting ./data/FashionMNIST/raw/t10k-images-idx3-ubyte.gz to ./data/FashionMNIST/raw\n",
            "\n",
            "Downloading http://fashion-mnist.s3-website.eu-central-1.amazonaws.com/t10k-labels-idx1-ubyte.gz\n",
            "Downloading http://fashion-mnist.s3-website.eu-central-1.amazonaws.com/t10k-labels-idx1-ubyte.gz to ./data/FashionMNIST/raw/t10k-labels-idx1-ubyte.gz\n"
          ]
        },
        {
          "output_type": "display_data",
          "data": {
            "application/vnd.jupyter.widget-view+json": {
              "model_id": "9aa43ed4e4f8456fac278a3409bed7a6",
              "version_minor": 0,
              "version_major": 2
            },
            "text/plain": [
              "  0%|          | 0/5148 [00:00<?, ?it/s]"
            ]
          },
          "metadata": {}
        },
        {
          "output_type": "stream",
          "name": "stdout",
          "text": [
            "Extracting ./data/FashionMNIST/raw/t10k-labels-idx1-ubyte.gz to ./data/FashionMNIST/raw\n",
            "\n"
          ]
        }
      ]
    },
    {
      "cell_type": "code",
      "source": [
        "classes = {idx:name for idx,name in enumerate(trainloader.dataset.classes)}\n",
        "classes"
      ],
      "metadata": {
        "colab": {
          "base_uri": "https://localhost:8080/"
        },
        "id": "mK39MG3vWQYb",
        "outputId": "95eb41e6-7cc2-43b6-be2d-ec7c7fd56290"
      },
      "execution_count": 305,
      "outputs": [
        {
          "output_type": "execute_result",
          "data": {
            "text/plain": [
              "{0: 'T-shirt/top',\n",
              " 1: 'Trouser',\n",
              " 2: 'Pullover',\n",
              " 3: 'Dress',\n",
              " 4: 'Coat',\n",
              " 5: 'Sandal',\n",
              " 6: 'Shirt',\n",
              " 7: 'Sneaker',\n",
              " 8: 'Bag',\n",
              " 9: 'Ankle boot'}"
            ]
          },
          "metadata": {},
          "execution_count": 305
        }
      ]
    },
    {
      "cell_type": "markdown",
      "metadata": {
        "id": "CZTfJ0dBWszP"
      },
      "source": [
        "Каждая картинка имеет класс от 0 до 9, расшифровка меток класса:  \n",
        "\n",
        "|class_id|class_name|\n",
        "|----|----|\n",
        "|0| T-shirt/top|\n",
        "|1| Trouser|\n",
        "|2| Pullover|\n",
        "|3| Dress|\n",
        "|4| Coat|\n",
        "|5| Sandal|\n",
        "|6| Shirt|\n",
        "|7| Sneaker|\n",
        "|8| Bag|\n",
        "|9| Ankle boot| "
      ]
    },
    {
      "cell_type": "markdown",
      "metadata": {
        "id": "RkDjjoj2Ws04"
      },
      "source": [
        "<h2 style=\"text-align: center;\"><b>Задание</b></h2>"
      ]
    },
    {
      "cell_type": "markdown",
      "metadata": {
        "id": "b_DjMGZPWszt"
      },
      "source": [
        "Посмотрите на датасет.\n",
        "* Сколько картинок в train? В test?\n",
        "* Равномерно ли распределено количество объектов разных классов в train датасете (это можно понять, поработав с полем `train_data` у переменной `trainset`)? в test?\n",
        "* Выведите несколько картинок с помощью `pyplot`\n",
        "\n",
        "Используя материалы семинаров по многослойным  и свёрточным сетям, напишите:\n",
        "1.  Многослойную нейронную сеть MLP (Multi-Layer Perceptron) классифицирующую этот датасет\n",
        "2. Свёрточную сеть, классифицирующую этот датасет\n",
        "3. Сравните их качество (по графикам лосса и по Accuracy Score)\n",
        "\n",
        "Если качество, которое получается у  нейросети, выше 95%, то Вы решили задачу с точностью, которую можно использовать в жизни."
      ]
    },
    {
      "cell_type": "code",
      "metadata": {
        "id": "Ev5LShUSWs06",
        "colab": {
          "base_uri": "https://localhost:8080/"
        },
        "outputId": "ecc58468-7b25-49e7-a654-2adbe0ea6860"
      },
      "source": [
        "print(f\"В train {len(trainset)} картинок\\nВ test {len(testset)} картинок\")"
      ],
      "execution_count": 306,
      "outputs": [
        {
          "output_type": "stream",
          "name": "stdout",
          "text": [
            "В train 60000 картинок\n",
            "В test 10000 картинок\n"
          ]
        }
      ]
    },
    {
      "cell_type": "code",
      "source": [
        "np.unique(trainset.targets, return_counts=True)"
      ],
      "metadata": {
        "colab": {
          "base_uri": "https://localhost:8080/"
        },
        "id": "2zvvm2eEbTOb",
        "outputId": "1003102b-ad06-4f03-f191-c02b97476408"
      },
      "execution_count": 307,
      "outputs": [
        {
          "output_type": "execute_result",
          "data": {
            "text/plain": [
              "(array([0, 1, 2, 3, 4, 5, 6, 7, 8, 9]),\n",
              " array([6000, 6000, 6000, 6000, 6000, 6000, 6000, 6000, 6000, 6000]))"
            ]
          },
          "metadata": {},
          "execution_count": 307
        }
      ]
    },
    {
      "cell_type": "code",
      "source": [
        "np.unique(testset.targets, return_counts=True)"
      ],
      "metadata": {
        "colab": {
          "base_uri": "https://localhost:8080/"
        },
        "id": "8ZrnymE4WvZI",
        "outputId": "00186f4c-d521-4f09-de4f-15160fde1464"
      },
      "execution_count": 308,
      "outputs": [
        {
          "output_type": "execute_result",
          "data": {
            "text/plain": [
              "(array([0, 1, 2, 3, 4, 5, 6, 7, 8, 9]),\n",
              " array([1000, 1000, 1000, 1000, 1000, 1000, 1000, 1000, 1000, 1000]))"
            ]
          },
          "metadata": {},
          "execution_count": 308
        }
      ]
    },
    {
      "cell_type": "code",
      "source": [
        "plt.imshow(trainloader.dataset.data[0].numpy(),  cmap='gray')"
      ],
      "metadata": {
        "colab": {
          "base_uri": "https://localhost:8080/",
          "height": 282
        },
        "id": "rwDUI2tsZHZu",
        "outputId": "fcb388f4-6ee5-4b7f-bea7-65d942c90ddc"
      },
      "execution_count": 309,
      "outputs": [
        {
          "output_type": "execute_result",
          "data": {
            "text/plain": [
              "<matplotlib.image.AxesImage at 0x7f2da70c7d10>"
            ]
          },
          "metadata": {},
          "execution_count": 309
        },
        {
          "output_type": "display_data",
          "data": {
            "image/png": "[encoded data removed]",
            "text/plain": [
              "<Figure size 432x288 with 1 Axes>"
            ]
          },
          "metadata": {
            "needs_background": "light"
          }
        }
      ]
    },
    {
      "cell_type": "code",
      "source": [
        "plt.imshow(trainloader.dataset.data[100].numpy(),  cmap='gray')"
      ],
      "metadata": {
        "colab": {
          "base_uri": "https://localhost:8080/",
          "height": 282
        },
        "id": "3i7Yi4NAZQN9",
        "outputId": "9226f6df-9cf4-4b76-ff71-7ec314d3a843"
      },
      "execution_count": 310,
      "outputs": [
        {
          "output_type": "execute_result",
          "data": {
            "text/plain": [
              "<matplotlib.image.AxesImage at 0x7f2da763d0d0>"
            ]
          },
          "metadata": {},
          "execution_count": 310
        },
        {
          "output_type": "display_data",
          "data": {
            "image/png": "[encoded data removed]",
            "text/plain": [
              "<Figure size 432x288 with 1 Axes>"
            ]
          },
          "metadata": {
            "needs_background": "light"
          }
        }
      ]
    },
    {
      "cell_type": "code",
      "source": [
        "plt.imshow(trainloader.dataset.data[200].numpy(), cmap='gray')"
      ],
      "metadata": {
        "colab": {
          "base_uri": "https://localhost:8080/",
          "height": 282
        },
        "id": "63jWbwDIZRdS",
        "outputId": "0755b30e-04e3-4127-ad82-3301f82e6ee7"
      },
      "execution_count": 311,
      "outputs": [
        {
          "output_type": "execute_result",
          "data": {
            "text/plain": [
              "<matplotlib.image.AxesImage at 0x7f2da75988d0>"
            ]
          },
          "metadata": {},
          "execution_count": 311
        },
        {
          "output_type": "display_data",
          "data": {
            "image/png": "[encoded data removed]",
            "text/plain": [
              "<Figure size 432x288 with 1 Axes>"
            ]
          },
          "metadata": {
            "needs_background": "light"
          }
        }
      ]
    },
    {
      "cell_type": "code",
      "source": [
        "from torch import nn, optim\n",
        "import torch.nn.functional as F\n"
      ],
      "metadata": {
        "id": "EB9YYKPGi3cm"
      },
      "execution_count": 10,
      "outputs": []
    },
    {
      "cell_type": "code",
      "source": [
        "def view_classify(img, ps, labl, one=True):\n",
        "    pred = classes[ps]\n",
        "    real = classes[labl.item()] \n",
        "    if one:\n",
        "      print(\"Predicted class:\", pred, \" Real class: \", real)\n",
        "      plt.imshow(img.resize_(1, 28, 28).numpy().squeeze(), cmap='gray')\n",
        "      return\n",
        "    return pred == real"
      ],
      "metadata": {
        "id": "ag4TBQ_jI-7u"
      },
      "execution_count": 298,
      "outputs": []
    },
    {
      "cell_type": "code",
      "source": [
        "def show_accuracy(typeset, dataset, model, classes, modelname):\n",
        "  class_correct = list(0. for i in range(len(classes)))\n",
        "  class_total = list(0. for i in range(len(classes)))\n",
        "  with torch.no_grad():\n",
        "    for images, labels in dataset:\n",
        "      if modelname == \"model_cnn\":\n",
        "        test = images\n",
        "        outputs = model_cnn(test)\n",
        "        predicted = torch.max(outputs, 1)[1]\n",
        "        c = (predicted == labels).squeeze()\n",
        "        for i in range(100):\n",
        "          label = labels[i]\n",
        "          class_correct[label] += c[i].item()\n",
        "          class_total[label] += 1\n",
        "      else:\n",
        "        for i, j in zip(images, labels):\n",
        "          img = i\n",
        "          labl = j\n",
        "          ps = np.argmax(torch.exp(model(img)).data.numpy().squeeze())\n",
        "          res = view_classify(img, ps, labl, one=False)\n",
        "          class_correct[labl] += res\n",
        "          class_total[labl] += 1\n",
        "  print(modelname + \":\")\n",
        "  ans = []\n",
        "  for i in range(10):\n",
        "      print('Accuracy of %5s : %2d %% on %5s' % (\n",
        "          classes[i], 100 * class_correct[i] / class_total[i], typeset))\n",
        "      ans.append(100 * class_correct[i] / class_total[i])\n",
        "  print(\"Mean accuracy: \", sum(ans)/len(ans), \"%\")\n"
      ],
      "metadata": {
        "id": "lJwOYsJALOnF"
      },
      "execution_count": 301,
      "outputs": []
    },
    {
      "cell_type": "code",
      "source": [
        "class MLP(nn.Module):\n",
        "    def __init__(self):\n",
        "        super(MLP, self).__init__()\n",
        "        self.fc1 = nn.Linear(784, 256)\n",
        "        self.fc2 = nn.Linear(256, 128)\n",
        "        self.fc3 = nn.Linear(128, 64)\n",
        "        self.fc4 = nn.Linear(64, 10)\n",
        "        \n",
        "    def forward(self, x):\n",
        "        x = x.view(x.shape[0], -1)\n",
        "        x = F.relu(self.fc1(x))\n",
        "        x = F.relu(self.fc2(x))\n",
        "        x = F.relu(self.fc3(x))\n",
        "        x = F.log_softmax(self.fc4(x), dim=1)\n",
        "        \n",
        "        return x"
      ],
      "metadata": {
        "id": "9Ux_p-X14MY0"
      },
      "execution_count": 98,
      "outputs": []
    },
    {
      "cell_type": "code",
      "source": [
        "model_mlp = MLP()"
      ],
      "metadata": {
        "id": "1EMwyabFNIav"
      },
      "execution_count": 18,
      "outputs": []
    },
    {
      "cell_type": "code",
      "source": [
        "criterion = nn.NLLLoss()\n",
        "optimizer = optim.Adam(model_mlp.parameters())\n",
        "epochs = 20\n",
        "loss_array = []\n",
        "for e in range(epochs):\n",
        "    running_loss = []\n",
        "    for images, labels in trainloader:\n",
        "        images = torch.autograd.Variable(images)\n",
        "        labels = torch.autograd.Variable(labels)\n",
        "        log_ps = model_mlp(images)\n",
        "        \n",
        "        loss = criterion(log_ps, labels)\n",
        "        \n",
        "        optimizer.zero_grad()\n",
        "        loss.backward()\n",
        "        optimizer.step()\n",
        "        \n",
        "        running_loss.append(loss.item())\n",
        "    loss_array.append(sum(running_loss)/len(trainloader))\n",
        "    print(\"Epoch: \", e)\n",
        "    print(f\"Training loss: {sum(running_loss)/len(trainloader)}\")"
      ],
      "metadata": {
        "colab": {
          "base_uri": "https://localhost:8080/"
        },
        "id": "4kp8E4Hb4-nV",
        "outputId": "a2070ffd-6302-4156-8577-7c42fd8913f4"
      },
      "execution_count": 19,
      "outputs": [
        {
          "output_type": "stream",
          "name": "stdout",
          "text": [
            "Epoch:  0\n",
            "Training loss: 0.529956910337011\n",
            "Epoch:  1\n",
            "Training loss: 0.37795245366791885\n",
            "Epoch:  2\n",
            "Training loss: 0.3370088710139195\n",
            "Epoch:  3\n",
            "Training loss: 0.31387791809936366\n",
            "Epoch:  4\n",
            "Training loss: 0.29293280851095915\n",
            "Epoch:  5\n",
            "Training loss: 0.2796983220304052\n",
            "Epoch:  6\n",
            "Training loss: 0.2651986574133237\n",
            "Epoch:  7\n",
            "Training loss: 0.2552326984206835\n",
            "Epoch:  8\n",
            "Training loss: 0.24086765861759582\n",
            "Epoch:  9\n",
            "Training loss: 0.23213643794258434\n",
            "Epoch:  10\n",
            "Training loss: 0.22191535675898194\n",
            "Epoch:  11\n",
            "Training loss: 0.21440764546394347\n",
            "Epoch:  12\n",
            "Training loss: 0.20584534282485645\n",
            "Epoch:  13\n",
            "Training loss: 0.1947432473798593\n",
            "Epoch:  14\n",
            "Training loss: 0.1851628368223707\n",
            "Epoch:  15\n",
            "Training loss: 0.17866236522172887\n",
            "Epoch:  16\n",
            "Training loss: 0.17112921288857857\n",
            "Epoch:  17\n",
            "Training loss: 0.16931339455768465\n",
            "Epoch:  18\n",
            "Training loss: 0.15757040148600937\n",
            "Epoch:  19\n",
            "Training loss: 0.1523498854848246\n"
          ]
        }
      ]
    },
    {
      "cell_type": "code",
      "source": [
        "show_accuracy('train', trainloader, model=model_mlp, classes=classes, modelname='model_mlp')"
      ],
      "metadata": {
        "id": "wxh27obRLejP",
        "colab": {
          "base_uri": "https://localhost:8080/"
        },
        "outputId": "a0c1ace3-3970-4358-bad0-d463b1f2257e"
      },
      "execution_count": 302,
      "outputs": [
        {
          "output_type": "stream",
          "name": "stdout",
          "text": [
            "model_mlp:\n",
            "Accuracy of T-shirt/top : 94 % on train\n",
            "Accuracy of Trouser : 99 % on train\n",
            "Accuracy of Pullover : 95 % on train\n",
            "Accuracy of Dress : 95 % on train\n",
            "Accuracy of  Coat : 90 % on train\n",
            "Accuracy of Sandal : 99 % on train\n",
            "Accuracy of Shirt : 80 % on train\n",
            "Accuracy of Sneaker : 97 % on train\n",
            "Accuracy of   Bag : 99 % on train\n",
            "Accuracy of Ankle boot : 98 % on train\n",
            "Mean accuracy:  95.12333333333333 %\n"
          ]
        }
      ]
    },
    {
      "cell_type": "code",
      "source": [
        "%%time\n",
        "plt.figure(figsize=(10, 8))\n",
        "plt.plot(loss_array)\n",
        "plt.title('Loss', fontsize=15)\n",
        "plt.xlabel('n iter', fontsize=14)\n",
        "plt.ylabel('$Loss(\\hat{y}, y)$', fontsize=14)\n",
        "plt.show()"
      ],
      "metadata": {
        "colab": {
          "base_uri": "https://localhost:8080/",
          "height": 553
        },
        "id": "qQddruYnOKB6",
        "outputId": "6fdf630a-8045-43c2-f8bb-f7d17a083070"
      },
      "execution_count": 105,
      "outputs": [
        {
          "output_type": "display_data",
          "data": {
            "image/png": "[encoded data removed]",
            "text/plain": [
              "<Figure size 720x576 with 1 Axes>"
            ]
          },
          "metadata": {
            "needs_background": "light"
          }
        },
        {
          "output_type": "stream",
          "name": "stdout",
          "text": [
            "CPU times: user 290 ms, sys: 18.3 ms, total: 308 ms\n",
            "Wall time: 290 ms\n"
          ]
        }
      ]
    },
    {
      "cell_type": "code",
      "source": [
        "class CNN(nn.Module):\n",
        "    \n",
        "    def __init__(self):\n",
        "        super(CNN, self).__init__()\n",
        "        \n",
        "        self.layer1 = nn.Sequential(\n",
        "            nn.Conv2d(in_channels=1, out_channels=32, kernel_size=3, padding=1),\n",
        "            nn.BatchNorm2d(32),\n",
        "            nn.ReLU(),\n",
        "            nn.MaxPool2d(kernel_size=2, stride=2)\n",
        "        )\n",
        "        \n",
        "        self.layer2 = nn.Sequential(\n",
        "            nn.Conv2d(in_channels=32, out_channels=64, kernel_size=3),\n",
        "            nn.BatchNorm2d(64),\n",
        "            nn.ReLU(),\n",
        "            nn.MaxPool2d(2)\n",
        "        )\n",
        "        \n",
        "        self.fc1 = nn.Linear(in_features=64*6*6, out_features=600)\n",
        "        self.drop = nn.Dropout2d(0.25)\n",
        "        self.fc2 = nn.Linear(in_features=600, out_features=120)\n",
        "        self.fc3 = nn.Linear(in_features=120, out_features=10)\n",
        "        \n",
        "    def forward(self, x):\n",
        "        out = self.layer1(x)\n",
        "        out = self.layer2(out)\n",
        "        out = out.view(out.size(0), -1)\n",
        "        out = self.fc1(out)\n",
        "        out = self.drop(out)\n",
        "        out = self.fc2(out)\n",
        "        out = F.log_softmax(self.fc3(out), dim=1)\n",
        "\n",
        "        \n",
        "        return out"
      ],
      "metadata": {
        "id": "JN4fCRA4ftrb"
      },
      "execution_count": 41,
      "outputs": []
    },
    {
      "cell_type": "code",
      "source": [
        "model_cnn = CNN()\n",
        "criterion = nn.NLLLoss()\n",
        "optimizer = optim.Adam(model_cnn.parameters())\n",
        "epochs = 20\n",
        "loss_array_cnn = []\n",
        "for e in range(epochs):\n",
        "    running_loss = []\n",
        "    for images, labels in trainloader:\n",
        "        images = torch.autograd.Variable(images)\n",
        "        labels = torch.autograd.Variable(labels)\n",
        "        log_ps = model_cnn(images)\n",
        "        \n",
        "        loss = criterion(log_ps, labels)\n",
        "        \n",
        "        optimizer.zero_grad()\n",
        "        loss.backward()\n",
        "        optimizer.step()\n",
        "        \n",
        "        running_loss.append(loss.item())\n",
        "    loss_array_cnn.append(sum(running_loss)/len(trainloader))\n",
        "    print(\"Epoch: \", e)\n",
        "    print(f\"Training loss: {sum(running_loss)/len(trainloader)}\")"
      ],
      "metadata": {
        "colab": {
          "base_uri": "https://localhost:8080/"
        },
        "id": "wcr5cbiHjRZ1",
        "outputId": "64765933-2051-41af-cd38-ad648797626b"
      },
      "execution_count": 43,
      "outputs": [
        {
          "output_type": "stream",
          "name": "stdout",
          "text": [
            "Epoch:  0\n",
            "Training loss: 0.43826928262909254\n",
            "Epoch:  1\n",
            "Training loss: 0.3021020786464214\n",
            "Epoch:  2\n",
            "Training loss: 0.2668050181120634\n",
            "Epoch:  3\n",
            "Training loss: 0.2384338751559456\n",
            "Epoch:  4\n",
            "Training loss: 0.2217475930849711\n",
            "Epoch:  5\n",
            "Training loss: 0.20512134220451117\n",
            "Epoch:  6\n",
            "Training loss: 0.1911690596366922\n",
            "Epoch:  7\n",
            "Training loss: 0.17410619103039304\n",
            "Epoch:  8\n",
            "Training loss: 0.1680180785494546\n",
            "Epoch:  9\n",
            "Training loss: 0.15445850336303313\n",
            "Epoch:  10\n",
            "Training loss: 0.14547138154506684\n",
            "Epoch:  11\n",
            "Training loss: 0.13682512229308486\n",
            "Epoch:  12\n",
            "Training loss: 0.1293798068103691\n",
            "Epoch:  13\n",
            "Training loss: 0.12311783825357756\n",
            "Epoch:  14\n",
            "Training loss: 0.1150191511431088\n",
            "Epoch:  15\n",
            "Training loss: 0.11160965107381343\n",
            "Epoch:  16\n",
            "Training loss: 0.10498988054382305\n",
            "Epoch:  17\n",
            "Training loss: 0.09913497811183333\n",
            "Epoch:  18\n",
            "Training loss: 0.0933399974834174\n",
            "Epoch:  19\n",
            "Training loss: 0.09109814984413485\n"
          ]
        }
      ]
    },
    {
      "cell_type": "code",
      "source": [
        "show_accuracy('train', trainloader, model=model_cnn, classes=classes, modelname=\"model_cnn\")"
      ],
      "metadata": {
        "colab": {
          "base_uri": "https://localhost:8080/"
        },
        "id": "8Bf6KNKxm-ix",
        "outputId": "909cb194-766a-4f60-a2fe-7168f96932b7"
      },
      "execution_count": 117,
      "outputs": [
        {
          "output_type": "stream",
          "name": "stdout",
          "text": [
            "model_cnn:\n",
            "Accuracy of T-shirt/top : 92 % on train\n",
            "Accuracy of Trouser : 99 % on train\n",
            "Accuracy of Pullover : 96 % on train\n",
            "Accuracy of Dress : 96 % on train\n",
            "Accuracy of  Coat : 95 % on train\n",
            "Accuracy of Sandal : 99 % on train\n",
            "Accuracy of Shirt : 95 % on train\n",
            "Accuracy of Sneaker : 99 % on train\n",
            "Accuracy of   Bag : 99 % on train\n",
            "Accuracy of Ankle boot : 99 % on train\n",
            "Mean accuracy:  97.455 %\n"
          ]
        }
      ]
    },
    {
      "cell_type": "code",
      "source": [
        "%%time\n",
        "plt.figure(figsize=(10, 8))\n",
        "plt.plot(loss_array_cnn)\n",
        "plt.title('Loss', fontsize=15)\n",
        "plt.xlabel('n iter', fontsize=14)\n",
        "plt.ylabel('$Loss(\\hat{y}, y)$', fontsize=14)\n",
        "plt.show()"
      ],
      "metadata": {
        "colab": {
          "base_uri": "https://localhost:8080/",
          "height": 553
        },
        "id": "nMHPMEQNQs0k",
        "outputId": "6528aeb8-49c3-4cb3-e360-c9cd2b8fda72"
      },
      "execution_count": 108,
      "outputs": [
        {
          "output_type": "display_data",
          "data": {
            "image/png": "[encoded data removed]",
            "text/plain": [
              "<Figure size 720x576 with 1 Axes>"
            ]
          },
          "metadata": {
            "needs_background": "light"
          }
        },
        {
          "output_type": "stream",
          "name": "stdout",
          "text": [
            "CPU times: user 243 ms, sys: 7.04 ms, total: 251 ms\n",
            "Wall time: 246 ms\n"
          ]
        }
      ]
    },
    {
      "cell_type": "code",
      "source": [
        "show_accuracy('test', testloader, model=model_mlp, classes=classes, modelname=\"model_mlp\")"
      ],
      "metadata": {
        "colab": {
          "base_uri": "https://localhost:8080/"
        },
        "id": "RSh0vQp0PoAV",
        "outputId": "a53b0483-d24a-4feb-cc87-2e61ad8c6503"
      },
      "execution_count": 106,
      "outputs": [
        {
          "output_type": "stream",
          "name": "stdout",
          "text": [
            "model_mlp:\n",
            "Accuracy of T-shirt/top : 87 % on  test\n",
            "Accuracy of Trouser : 97 % on  test\n",
            "Accuracy of Pullover : 87 % on  test\n",
            "Accuracy of Dress : 89 % on  test\n",
            "Accuracy of  Coat : 80 % on  test\n",
            "Accuracy of Sandal : 95 % on  test\n",
            "Accuracy of Shirt : 66 % on  test\n",
            "Accuracy of Sneaker : 94 % on  test\n",
            "Accuracy of   Bag : 96 % on  test\n",
            "Accuracy of Ankle boot : 95 % on  test\n",
            "Mean accuracy:  89.14 %\n"
          ]
        }
      ]
    },
    {
      "cell_type": "code",
      "source": [
        "show_accuracy('test', testloader, model=model_cnn, classes=classes, modelname=\"model_cnn\")"
      ],
      "metadata": {
        "colab": {
          "base_uri": "https://localhost:8080/"
        },
        "id": "EM9WKgaEayGI",
        "outputId": "f3e8dd05-5cfe-431a-cc36-33d0e7c61305"
      },
      "execution_count": 118,
      "outputs": [
        {
          "output_type": "stream",
          "name": "stdout",
          "text": [
            "model_cnn:\n",
            "Accuracy of T-shirt/top : 81 % on  test\n",
            "Accuracy of Trouser : 97 % on  test\n",
            "Accuracy of Pullover : 86 % on  test\n",
            "Accuracy of Dress : 88 % on  test\n",
            "Accuracy of  Coat : 85 % on  test\n",
            "Accuracy of Sandal : 96 % on  test\n",
            "Accuracy of Shirt : 78 % on  test\n",
            "Accuracy of Sneaker : 97 % on  test\n",
            "Accuracy of   Bag : 97 % on  test\n",
            "Accuracy of Ankle boot : 97 % on  test\n",
            "Mean accuracy:  90.67 %\n"
          ]
        }
      ]
    },
    {
      "cell_type": "markdown",
      "source": [
        "Вывод: У MLP существует проблема отличить футболку от пулловера, пальто и рубашки. В остальном модель справляется хорошо, имея среднее accuracy 89.14 %.\n",
        "CNN же справилась лучше, показав результат 90.67 %. Также по графикам видно, что CNN пришла к меньшему, чем MLP, показателю потерь за одинаковое число эпох и при одинаковых параметрах оптимизатора. "
      ],
      "metadata": {
        "id": "oLhaTVcuGrEk"
      }
    },
    {
      "cell_type": "markdown",
      "source": [
        "Также прищла идея сделать тест предсказания на полученных моделях"
      ],
      "metadata": {
        "id": "hQ9OM3t8I0xi"
      }
    },
    {
      "cell_type": "code",
      "source": [
        "images, labels = next(iter(testloader))\n",
        "i = np.random.randint(0, len(labels))\n",
        "img = images[i]\n",
        "labels = labels[i]\n",
        "ps = torch.exp(model_mlp(img)).data.numpy().squeeze()\n",
        "pred = np.argmax(ps)\n",
        "view_classify(img, pred, labels, one=True)"
      ],
      "metadata": {
        "colab": {
          "base_uri": "https://localhost:8080/",
          "height": 282
        },
        "id": "TkMqHtMsGcea",
        "outputId": "d7ed6a58-7927-4b03-bfa1-f0d729f0bf39"
      },
      "execution_count": 299,
      "outputs": [
        {
          "output_type": "stream",
          "name": "stdout",
          "text": [
            "Predicted class: Coat  Real class:  Coat\n"
          ]
        },
        {
          "output_type": "display_data",
          "data": {
            "image/png": "[encoded data removed]",
            "text/plain": [
              "<Figure size 432x288 with 1 Axes>"
            ]
          },
          "metadata": {
            "needs_background": "light"
          }
        }
      ]
    },
    {
      "cell_type": "code",
      "source": [
        "images, labels = next(iter(testloader))\n",
        "i = np.random.randint(0, len(labels))\n",
        "img = images[i]\n",
        "label = labels[i]\n",
        "ps = torch.max(model_cnn(images), 1)[1]\n",
        "pred = ps[i].item()\n",
        "view_classify(img, pred, label, one=True)"
      ],
      "metadata": {
        "colab": {
          "base_uri": "https://localhost:8080/",
          "height": 282
        },
        "id": "KvcuibD7uAxE",
        "outputId": "e6bce9a7-a512-4023-a237-f09a51cf2b1f"
      },
      "execution_count": 300,
      "outputs": [
        {
          "output_type": "stream",
          "name": "stdout",
          "text": [
            "Predicted class: Trouser  Real class:  Trouser\n"
          ]
        },
        {
          "output_type": "display_data",
          "data": {
            "image/png": "[encoded data removed]",
            "text/plain": [
              "<Figure size 432x288 with 1 Axes>"
            ]
          },
          "metadata": {
            "needs_background": "light"
          }
        }
      ]
    }
  ]
}