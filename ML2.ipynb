{
  "nbformat": 4,
  "nbformat_minor": 0,
  "metadata": {
    "colab": {
      "name": "ML2.ipynb",
      "provenance": [],
      "collapsed_sections": []
    },
    "kernelspec": {
      "name": "python3",
      "display_name": "Python 3"
    },
    "language_info": {
      "name": "python"
    }
  },
  "cells": [
    {
      "cell_type": "markdown",
      "metadata": {
        "id": "UqLWLKVkB_Xh"
      },
      "source": [
        "Задание 0\n"
      ]
    },
    {
      "cell_type": "code",
      "metadata": {
        "id": "9Of0vSiDDM3F",
        "colab": {
          "base_uri": "https://localhost:8080/"
        },
        "outputId": "6b1dbe42-beb1-496e-fbe2-a52760034742"
      },
      "source": [
        "import pandas as pd\n",
        "import numpy as np\n",
        "from google.colab import drive\n",
        "drive.mount('/content/drive')"
      ],
      "execution_count": null,
      "outputs": [
        {
          "output_type": "stream",
          "name": "stdout",
          "text": [
            "Drive already mounted at /content/drive; to attempt to forcibly remount, call drive.mount(\"/content/drive\", force_remount=True).\n"
          ]
        }
      ]
    },
    {
      "cell_type": "code",
      "metadata": {
        "id": "CNifxVE53vZD"
      },
      "source": [
        "tr_types_tbl = pd.read_csv('/content/drive/MyDrive/data/tr_types.csv', delimiter=';')\n",
        "gender_train_tbl = pd.read_csv('/content/drive/MyDrive/data/gender_train.csv')\n",
        "tr_mcc_codes_tbl = pd.read_csv('/content/drive/MyDrive/data/tr_mcc_codes.csv', delimiter=';')\n",
        "transactions_tbl = pd.read_csv('/content/drive/MyDrive/data/transactions.csv', nrows=1000000)"
      ],
      "execution_count": null,
      "outputs": []
    },
    {
      "cell_type": "markdown",
      "metadata": {
        "id": "OkyzpOJFCFed"
      },
      "source": [
        "Задание 1"
      ]
    },
    {
      "cell_type": "code",
      "metadata": {
        "colab": {
          "base_uri": "https://localhost:8080/"
        },
        "id": "cWBP_SlyCMiQ",
        "outputId": "b7c897f1-54e8-4732-ca75-95a76d939a9b"
      },
      "source": [
        "size = 1000\n",
        "sample = transactions_tbl['tr_type'].sample(size).to_numpy()\n",
        "descriptions = tr_types_tbl[['tr_type', 'tr_description']].values\n",
        "filtered = dict(filter(lambda x: 'POS' in x[1] or 'АТМ' in x[1], descriptions))\n",
        "len(list(filter(lambda x: x in filtered, sample))) / size"
      ],
      "execution_count": null,
      "outputs": [
        {
          "output_type": "execute_result",
          "data": {
            "text/plain": [
              "0.627"
            ]
          },
          "metadata": {},
          "execution_count": 98
        }
      ]
    },
    {
      "cell_type": "markdown",
      "metadata": {
        "id": "d46NoyadRL4y"
      },
      "source": [
        "Задание 2"
      ]
    },
    {
      "cell_type": "code",
      "metadata": {
        "colab": {
          "base_uri": "https://localhost:8080/",
          "height": 363
        },
        "id": "iUkh7zPqZO9f",
        "outputId": "ce5f7907-eda1-4388-d5ba-32d97b9d9b64"
      },
      "source": [
        "top = transactions_tbl[['tr_type']].value_counts()[:10].to_frame().reset_index()\n",
        "top.columns = ['tr_type', 'count']\n",
        "top_dict = dict(top[['tr_type','count']].values)\n",
        "descriptions = dict(tr_types_tbl[['tr_type', 'tr_description']].values)\n",
        "a = []\n",
        "for tr_type in top_dict:\n",
        "  a.append([tr_type, top_dict[tr_type], descriptions[tr_type]])\n",
        "df = pd.DataFrame(a, columns=['tr_type', 'count', 'tr_description'])\n",
        "pd.options.display.max_colwidth = 200\n",
        "df"
      ],
      "execution_count": null,
      "outputs": [
        {
          "output_type": "execute_result",
          "data": {
            "text/html": [
              "<div>\n",
              "<style scoped>\n",
              "    .dataframe tbody tr th:only-of-type {\n",
              "        vertical-align: middle;\n",
              "    }\n",
              "\n",
              "    .dataframe tbody tr th {\n",
              "        vertical-align: top;\n",
              "    }\n",
              "\n",
              "    .dataframe thead th {\n",
              "        text-align: right;\n",
              "    }\n",
              "</style>\n",
              "<table border=\"1\" class=\"dataframe\">\n",
              "  <thead>\n",
              "    <tr style=\"text-align: right;\">\n",
              "      <th></th>\n",
              "      <th>tr_type</th>\n",
              "      <th>count</th>\n",
              "      <th>tr_description</th>\n",
              "    </tr>\n",
              "  </thead>\n",
              "  <tbody>\n",
              "    <tr>\n",
              "      <th>0</th>\n",
              "      <td>1010</td>\n",
              "      <td>231117</td>\n",
              "      <td>Покупка. POS ТУ СБ РФ</td>\n",
              "    </tr>\n",
              "    <tr>\n",
              "      <th>1</th>\n",
              "      <td>2010</td>\n",
              "      <td>151166</td>\n",
              "      <td>Выдача наличных в АТМ Сбербанк России</td>\n",
              "    </tr>\n",
              "    <tr>\n",
              "      <th>2</th>\n",
              "      <td>7070</td>\n",
              "      <td>149006</td>\n",
              "      <td>Перевод на карту (с карты) через Мобильный банк (без взимания комиссии с отправителя)</td>\n",
              "    </tr>\n",
              "    <tr>\n",
              "      <th>3</th>\n",
              "      <td>1110</td>\n",
              "      <td>137658</td>\n",
              "      <td>Покупка. POS ТУ Россия</td>\n",
              "    </tr>\n",
              "    <tr>\n",
              "      <th>4</th>\n",
              "      <td>1030</td>\n",
              "      <td>118975</td>\n",
              "      <td>Оплата услуги. Банкоматы СБ РФ</td>\n",
              "    </tr>\n",
              "    <tr>\n",
              "      <th>5</th>\n",
              "      <td>2370</td>\n",
              "      <td>49830</td>\n",
              "      <td>Списание с карты на карту по операции &lt;перевода с карты на карту&gt; через Мобильный банк (без комиссии)</td>\n",
              "    </tr>\n",
              "    <tr>\n",
              "      <th>6</th>\n",
              "      <td>7010</td>\n",
              "      <td>28972</td>\n",
              "      <td>Взнос наличных через АТМ (в своем тер.банке)</td>\n",
              "    </tr>\n",
              "    <tr>\n",
              "      <th>7</th>\n",
              "      <td>7030</td>\n",
              "      <td>26078</td>\n",
              "      <td>Перевод на карту (с карты) через АТМ (в пределах одного тер.банка)</td>\n",
              "    </tr>\n",
              "    <tr>\n",
              "      <th>8</th>\n",
              "      <td>7071</td>\n",
              "      <td>15781</td>\n",
              "      <td>Перевод на карту (с карты) через Мобильный банк (с взиманием комиссии с отправителя)</td>\n",
              "    </tr>\n",
              "    <tr>\n",
              "      <th>9</th>\n",
              "      <td>1100</td>\n",
              "      <td>15476</td>\n",
              "      <td>Покупка. ТУ  Россия</td>\n",
              "    </tr>\n",
              "  </tbody>\n",
              "</table>\n",
              "</div>"
            ],
            "text/plain": [
              "   tr_type  ...                                                                                         tr_description\n",
              "0     1010  ...                                                                                  Покупка. POS ТУ СБ РФ\n",
              "1     2010  ...                                                                  Выдача наличных в АТМ Сбербанк России\n",
              "2     7070  ...                  Перевод на карту (с карты) через Мобильный банк (без взимания комиссии с отправителя)\n",
              "3     1110  ...                                                                                 Покупка. POS ТУ Россия\n",
              "4     1030  ...                                                                         Оплата услуги. Банкоматы СБ РФ\n",
              "5     2370  ...  Списание с карты на карту по операции <перевода с карты на карту> через Мобильный банк (без комиссии)\n",
              "6     7010  ...                                                           Взнос наличных через АТМ (в своем тер.банке)\n",
              "7     7030  ...                                     Перевод на карту (с карты) через АТМ (в пределах одного тер.банка)\n",
              "8     7071  ...                   Перевод на карту (с карты) через Мобильный банк (с взиманием комиссии с отправителя)\n",
              "9     1100  ...                                                                                    Покупка. ТУ  Россия\n",
              "\n",
              "[10 rows x 3 columns]"
            ]
          },
          "metadata": {},
          "execution_count": 99
        }
      ]
    },
    {
      "cell_type": "markdown",
      "metadata": {
        "id": "gNUjrxSYaxxr"
      },
      "source": [
        "Задание 3"
      ]
    },
    {
      "cell_type": "code",
      "metadata": {
        "colab": {
          "base_uri": "https://localhost:8080/"
        },
        "id": "mWgksPwra3VG",
        "outputId": "705aeec6-0e42-475e-8ef8-dcf9d8acad7f"
      },
      "source": [
        "client_max= transactions_tbl[transactions_tbl['amount'] > 0].groupby('customer_id').sum()['amount'].idxmax()\n",
        "client_min = transactions_tbl[transactions_tbl['amount'] < 0].groupby('customer_id').sum()['amount'].idxmin()\n",
        "clients = transactions_tbl.groupby('customer_id').sum()\n",
        "print(\"1.Client_max \", client_max)\n",
        "print(\"2.Client_min \", client_min)\n",
        "print(\"3.Client_diff\", abs(clients.loc[client_max]['amount']))"
      ],
      "execution_count": null,
      "outputs": [
        {
          "output_type": "stream",
          "name": "stdout",
          "text": [
            "1.Client_max  70780820\n",
            "2.Client_min  70780820\n",
            "3.Client_diff 1837317.9799995997\n"
          ]
        }
      ]
    },
    {
      "cell_type": "markdown",
      "metadata": {
        "id": "0KSZ9Eb1jpeh"
      },
      "source": [
        "Задание 4\n"
      ]
    },
    {
      "cell_type": "code",
      "metadata": {
        "colab": {
          "base_uri": "https://localhost:8080/",
          "height": 429
        },
        "id": "BO-9Hyfb__K8",
        "outputId": "ec769cea-2db4-4d2d-ad4d-38eccc1e2839"
      },
      "source": [
        "grouped_1 = transactions_tbl[transactions_tbl['tr_type'].isin(top['tr_type'])].groupby(['tr_type'])['amount']\n",
        "print(\"Mean_tr_type_top_10\\n \") \n",
        "grouped_1.mean().to_frame()"
      ],
      "execution_count": null,
      "outputs": [
        {
          "output_type": "stream",
          "name": "stdout",
          "text": [
            "Mean_tr_type_top_10\n",
            " \n"
          ]
        },
        {
          "output_type": "execute_result",
          "data": {
            "text/html": [
              "<div>\n",
              "<style scoped>\n",
              "    .dataframe tbody tr th:only-of-type {\n",
              "        vertical-align: middle;\n",
              "    }\n",
              "\n",
              "    .dataframe tbody tr th {\n",
              "        vertical-align: top;\n",
              "    }\n",
              "\n",
              "    .dataframe thead th {\n",
              "        text-align: right;\n",
              "    }\n",
              "</style>\n",
              "<table border=\"1\" class=\"dataframe\">\n",
              "  <thead>\n",
              "    <tr style=\"text-align: right;\">\n",
              "      <th></th>\n",
              "      <th>amount</th>\n",
              "    </tr>\n",
              "    <tr>\n",
              "      <th>tr_type</th>\n",
              "      <th></th>\n",
              "    </tr>\n",
              "  </thead>\n",
              "  <tbody>\n",
              "    <tr>\n",
              "      <th>1010</th>\n",
              "      <td>-19784.748640</td>\n",
              "    </tr>\n",
              "    <tr>\n",
              "      <th>1030</th>\n",
              "      <td>-5320.980222</td>\n",
              "    </tr>\n",
              "    <tr>\n",
              "      <th>1100</th>\n",
              "      <td>-44061.827262</td>\n",
              "    </tr>\n",
              "    <tr>\n",
              "      <th>1110</th>\n",
              "      <td>-32119.330371</td>\n",
              "    </tr>\n",
              "    <tr>\n",
              "      <th>2010</th>\n",
              "      <td>-136077.629325</td>\n",
              "    </tr>\n",
              "    <tr>\n",
              "      <th>2370</th>\n",
              "      <td>-205418.249032</td>\n",
              "    </tr>\n",
              "    <tr>\n",
              "      <th>7010</th>\n",
              "      <td>276391.789596</td>\n",
              "    </tr>\n",
              "    <tr>\n",
              "      <th>7030</th>\n",
              "      <td>86104.332909</td>\n",
              "    </tr>\n",
              "    <tr>\n",
              "      <th>7070</th>\n",
              "      <td>65569.831700</td>\n",
              "    </tr>\n",
              "    <tr>\n",
              "      <th>7071</th>\n",
              "      <td>66806.826623</td>\n",
              "    </tr>\n",
              "  </tbody>\n",
              "</table>\n",
              "</div>"
            ],
            "text/plain": [
              "                amount\n",
              "tr_type               \n",
              "1010     -19784.748640\n",
              "1030      -5320.980222\n",
              "1100     -44061.827262\n",
              "1110     -32119.330371\n",
              "2010    -136077.629325\n",
              "2370    -205418.249032\n",
              "7010     276391.789596\n",
              "7030      86104.332909\n",
              "7070      65569.831700\n",
              "7071      66806.826623"
            ]
          },
          "metadata": {},
          "execution_count": 109
        }
      ]
    },
    {
      "cell_type": "code",
      "metadata": {
        "colab": {
          "base_uri": "https://localhost:8080/",
          "height": 446
        },
        "id": "BbIqZcq5AMCP",
        "outputId": "b42bc2f9-54a3-412c-e0d3-49110fc81b41"
      },
      "source": [
        "print(\"\\nMedian_tr_type_top_10\\n \")\n",
        "grouped_1.median().to_frame()"
      ],
      "execution_count": null,
      "outputs": [
        {
          "output_type": "stream",
          "name": "stdout",
          "text": [
            "\n",
            "Median_tr_type_top_10\n",
            " \n"
          ]
        },
        {
          "output_type": "execute_result",
          "data": {
            "text/html": [
              "<div>\n",
              "<style scoped>\n",
              "    .dataframe tbody tr th:only-of-type {\n",
              "        vertical-align: middle;\n",
              "    }\n",
              "\n",
              "    .dataframe tbody tr th {\n",
              "        vertical-align: top;\n",
              "    }\n",
              "\n",
              "    .dataframe thead th {\n",
              "        text-align: right;\n",
              "    }\n",
              "</style>\n",
              "<table border=\"1\" class=\"dataframe\">\n",
              "  <thead>\n",
              "    <tr style=\"text-align: right;\">\n",
              "      <th></th>\n",
              "      <th>amount</th>\n",
              "    </tr>\n",
              "    <tr>\n",
              "      <th>tr_type</th>\n",
              "      <th></th>\n",
              "    </tr>\n",
              "  </thead>\n",
              "  <tbody>\n",
              "    <tr>\n",
              "      <th>1010</th>\n",
              "      <td>-7411.52</td>\n",
              "    </tr>\n",
              "    <tr>\n",
              "      <th>1030</th>\n",
              "      <td>-2245.92</td>\n",
              "    </tr>\n",
              "    <tr>\n",
              "      <th>1100</th>\n",
              "      <td>-10188.26</td>\n",
              "    </tr>\n",
              "    <tr>\n",
              "      <th>1110</th>\n",
              "      <td>-11207.57</td>\n",
              "    </tr>\n",
              "    <tr>\n",
              "      <th>2010</th>\n",
              "      <td>-44918.32</td>\n",
              "    </tr>\n",
              "    <tr>\n",
              "      <th>2370</th>\n",
              "      <td>-44918.32</td>\n",
              "    </tr>\n",
              "    <tr>\n",
              "      <th>7010</th>\n",
              "      <td>112295.79</td>\n",
              "    </tr>\n",
              "    <tr>\n",
              "      <th>7030</th>\n",
              "      <td>13951.52</td>\n",
              "    </tr>\n",
              "    <tr>\n",
              "      <th>7070</th>\n",
              "      <td>11319.42</td>\n",
              "    </tr>\n",
              "    <tr>\n",
              "      <th>7071</th>\n",
              "      <td>3593.47</td>\n",
              "    </tr>\n",
              "  </tbody>\n",
              "</table>\n",
              "</div>"
            ],
            "text/plain": [
              "            amount\n",
              "tr_type           \n",
              "1010      -7411.52\n",
              "1030      -2245.92\n",
              "1100     -10188.26\n",
              "1110     -11207.57\n",
              "2010     -44918.32\n",
              "2370     -44918.32\n",
              "7010     112295.79\n",
              "7030      13951.52\n",
              "7070      11319.42\n",
              "7071       3593.47"
            ]
          },
          "metadata": {},
          "execution_count": 108
        }
      ]
    },
    {
      "cell_type": "code",
      "metadata": {
        "colab": {
          "base_uri": "https://localhost:8080/",
          "height": 523
        },
        "id": "VoqV2R6-jsKk",
        "outputId": "81124282-dca0-4aad-a630-4a7f97b9d372"
      },
      "source": [
        "grouped_2 = transactions_tbl[transactions_tbl['customer_id'].isin((client_max, client_min))].groupby(['tr_type'])['amount']\n",
        "print(\"Client_all_tr_mean\\n \")\n",
        "grouped_2.mean().to_frame()"
      ],
      "execution_count": null,
      "outputs": [
        {
          "output_type": "stream",
          "name": "stdout",
          "text": [
            "Client_all_tr_mean\n",
            " \n"
          ]
        },
        {
          "output_type": "execute_result",
          "data": {
            "text/html": [
              "<div>\n",
              "<style scoped>\n",
              "    .dataframe tbody tr th:only-of-type {\n",
              "        vertical-align: middle;\n",
              "    }\n",
              "\n",
              "    .dataframe tbody tr th {\n",
              "        vertical-align: top;\n",
              "    }\n",
              "\n",
              "    .dataframe thead th {\n",
              "        text-align: right;\n",
              "    }\n",
              "</style>\n",
              "<table border=\"1\" class=\"dataframe\">\n",
              "  <thead>\n",
              "    <tr style=\"text-align: right;\">\n",
              "      <th></th>\n",
              "      <th>amount</th>\n",
              "    </tr>\n",
              "    <tr>\n",
              "      <th>tr_type</th>\n",
              "      <th></th>\n",
              "    </tr>\n",
              "  </thead>\n",
              "  <tbody>\n",
              "    <tr>\n",
              "      <th>2010</th>\n",
              "      <td>-2.941056e+06</td>\n",
              "    </tr>\n",
              "    <tr>\n",
              "      <th>2330</th>\n",
              "      <td>-2.382398e+06</td>\n",
              "    </tr>\n",
              "    <tr>\n",
              "      <th>2370</th>\n",
              "      <td>-2.218505e+06</td>\n",
              "    </tr>\n",
              "    <tr>\n",
              "      <th>6110</th>\n",
              "      <td>1.756293e+04</td>\n",
              "    </tr>\n",
              "    <tr>\n",
              "      <th>7020</th>\n",
              "      <td>1.465129e+04</td>\n",
              "    </tr>\n",
              "    <tr>\n",
              "      <th>7021</th>\n",
              "      <td>2.850067e+04</td>\n",
              "    </tr>\n",
              "    <tr>\n",
              "      <th>7030</th>\n",
              "      <td>1.406196e+04</td>\n",
              "    </tr>\n",
              "    <tr>\n",
              "      <th>7031</th>\n",
              "      <td>1.921036e+04</td>\n",
              "    </tr>\n",
              "    <tr>\n",
              "      <th>7034</th>\n",
              "      <td>1.430648e+04</td>\n",
              "    </tr>\n",
              "    <tr>\n",
              "      <th>7040</th>\n",
              "      <td>2.153833e+04</td>\n",
              "    </tr>\n",
              "    <tr>\n",
              "      <th>7070</th>\n",
              "      <td>1.384821e+04</td>\n",
              "    </tr>\n",
              "    <tr>\n",
              "      <th>7071</th>\n",
              "      <td>1.860057e+04</td>\n",
              "    </tr>\n",
              "    <tr>\n",
              "      <th>7074</th>\n",
              "      <td>2.281159e+04</td>\n",
              "    </tr>\n",
              "  </tbody>\n",
              "</table>\n",
              "</div>"
            ],
            "text/plain": [
              "               amount\n",
              "tr_type              \n",
              "2010    -2.941056e+06\n",
              "2330    -2.382398e+06\n",
              "2370    -2.218505e+06\n",
              "6110     1.756293e+04\n",
              "7020     1.465129e+04\n",
              "7021     2.850067e+04\n",
              "7030     1.406196e+04\n",
              "7031     1.921036e+04\n",
              "7034     1.430648e+04\n",
              "7040     2.153833e+04\n",
              "7070     1.384821e+04\n",
              "7071     1.860057e+04\n",
              "7074     2.281159e+04"
            ]
          },
          "metadata": {},
          "execution_count": 107
        }
      ]
    },
    {
      "cell_type": "code",
      "metadata": {
        "colab": {
          "base_uri": "https://localhost:8080/",
          "height": 540
        },
        "id": "nGS8AZUj_1iJ",
        "outputId": "232e1c42-2137-4e78-b887-910dae7a62bf"
      },
      "source": [
        "print(\"\\nClient_all_tr_median\\n \")\n",
        "grouped_2.median().to_frame()"
      ],
      "execution_count": null,
      "outputs": [
        {
          "output_type": "stream",
          "name": "stdout",
          "text": [
            "\n",
            "Client_all_tr_median\n",
            " \n"
          ]
        },
        {
          "output_type": "execute_result",
          "data": {
            "text/html": [
              "<div>\n",
              "<style scoped>\n",
              "    .dataframe tbody tr th:only-of-type {\n",
              "        vertical-align: middle;\n",
              "    }\n",
              "\n",
              "    .dataframe tbody tr th {\n",
              "        vertical-align: top;\n",
              "    }\n",
              "\n",
              "    .dataframe thead th {\n",
              "        text-align: right;\n",
              "    }\n",
              "</style>\n",
              "<table border=\"1\" class=\"dataframe\">\n",
              "  <thead>\n",
              "    <tr style=\"text-align: right;\">\n",
              "      <th></th>\n",
              "      <th>amount</th>\n",
              "    </tr>\n",
              "    <tr>\n",
              "      <th>tr_type</th>\n",
              "      <th></th>\n",
              "    </tr>\n",
              "  </thead>\n",
              "  <tbody>\n",
              "    <tr>\n",
              "      <th>2010</th>\n",
              "      <td>-3368873.660</td>\n",
              "    </tr>\n",
              "    <tr>\n",
              "      <th>2330</th>\n",
              "      <td>-2245915.770</td>\n",
              "    </tr>\n",
              "    <tr>\n",
              "      <th>2370</th>\n",
              "      <td>-2245915.770</td>\n",
              "    </tr>\n",
              "    <tr>\n",
              "      <th>6110</th>\n",
              "      <td>10028.010</td>\n",
              "    </tr>\n",
              "    <tr>\n",
              "      <th>7020</th>\n",
              "      <td>10319.985</td>\n",
              "    </tr>\n",
              "    <tr>\n",
              "      <th>7021</th>\n",
              "      <td>28500.670</td>\n",
              "    </tr>\n",
              "    <tr>\n",
              "      <th>7030</th>\n",
              "      <td>8848.910</td>\n",
              "    </tr>\n",
              "    <tr>\n",
              "      <th>7031</th>\n",
              "      <td>12992.620</td>\n",
              "    </tr>\n",
              "    <tr>\n",
              "      <th>7034</th>\n",
              "      <td>14306.480</td>\n",
              "    </tr>\n",
              "    <tr>\n",
              "      <th>7040</th>\n",
              "      <td>14396.320</td>\n",
              "    </tr>\n",
              "    <tr>\n",
              "      <th>7070</th>\n",
              "      <td>8714.150</td>\n",
              "    </tr>\n",
              "    <tr>\n",
              "      <th>7071</th>\n",
              "      <td>12543.440</td>\n",
              "    </tr>\n",
              "    <tr>\n",
              "      <th>7074</th>\n",
              "      <td>9387.930</td>\n",
              "    </tr>\n",
              "  </tbody>\n",
              "</table>\n",
              "</div>"
            ],
            "text/plain": [
              "              amount\n",
              "tr_type             \n",
              "2010    -3368873.660\n",
              "2330    -2245915.770\n",
              "2370    -2245915.770\n",
              "6110       10028.010\n",
              "7020       10319.985\n",
              "7021       28500.670\n",
              "7030        8848.910\n",
              "7031       12992.620\n",
              "7034       14306.480\n",
              "7040       14396.320\n",
              "7070        8714.150\n",
              "7071       12543.440\n",
              "7074        9387.930"
            ]
          },
          "metadata": {},
          "execution_count": 106
        }
      ]
    },
    {
      "cell_type": "markdown",
      "metadata": {
        "id": "yI6rncJy4aH7"
      },
      "source": [
        "Задание 5-8 подготовка"
      ]
    },
    {
      "cell_type": "code",
      "metadata": {
        "id": "HC6MnvWilC6p"
      },
      "source": [
        "transactions_tbl = pd.merge(transactions_tbl, gender_train_tbl, how='left')\n",
        "transactions_tbl = pd.merge(transactions_tbl, tr_mcc_codes_tbl, how='inner')\n",
        "transactions_tbl = pd.merge(transactions_tbl, tr_types_tbl, how='inner')"
      ],
      "execution_count": null,
      "outputs": []
    },
    {
      "cell_type": "markdown",
      "metadata": {
        "id": "QOrwqQtPlAJm"
      },
      "source": [
        "Задание 5"
      ]
    },
    {
      "cell_type": "code",
      "metadata": {
        "colab": {
          "base_uri": "https://localhost:8080/"
        },
        "id": "VbGG-Pdhlh5_",
        "outputId": "c1b63848-1386-4c57-a268-38edc262a259"
      },
      "source": [
        "df = transactions_tbl.groupby(['gender'])\n",
        "gender_1 = transactions_tbl.groupby(['gender']).get_group(1)\n",
        "gender_0 = transactions_tbl.groupby(['gender']).get_group(0)\n",
        "gender_1_outcomes = gender_1[gender_1.amount < 0]\n",
        "gender_0_outcomes = gender_0[gender_0.amount < 0]\n",
        "print(\"Mean outcomes difference: \",abs(gender_0_outcomes.amount.mean() - gender_1_outcomes.amount.mean()))\n",
        "gender_1_incomes = gender_1[gender_1.amount > 0]\n",
        "gender_0_incomes = gender_0[gender_0.amount > 0]\n",
        "print(\"Mean incomes difference: \",abs(gender_0_incomes.amount.mean() - gender_1_incomes.amount.mean()))"
      ],
      "execution_count": null,
      "outputs": [
        {
          "output_type": "stream",
          "name": "stdout",
          "text": [
            "Mean outcomes difference:  32718.05492021877\n",
            "Mean incomes difference:  63366.57104801515\n"
          ]
        }
      ]
    },
    {
      "cell_type": "markdown",
      "metadata": {
        "id": "zP8UyhlIrjNr"
      },
      "source": [
        "Задание 7"
      ]
    },
    {
      "cell_type": "code",
      "metadata": {
        "colab": {
          "base_uri": "https://localhost:8080/",
          "height": 394
        },
        "id": "5HUH9GQmrl-Z",
        "outputId": "87ab52ef-7b37-40a8-a29f-7b03257ffa70"
      },
      "source": [
        "sum_genders = transactions_tbl[transactions_tbl['amount'] < 0]\n",
        "sum_genders = sum_genders.groupby(['gender', 'mcc_code', 'mcc_description'])\n",
        "sum_genders = sum_genders['amount'].sum()\n",
        "module = abs(sum_genders.get(1) - sum_genders.get(0))\n",
        "module = module.sort_values(ascending=False)\n",
        "module = module.head(10)\n",
        "module.to_frame()"
      ],
      "execution_count": null,
      "outputs": [
        {
          "output_type": "execute_result",
          "data": {
            "text/html": [
              "<div>\n",
              "<style scoped>\n",
              "    .dataframe tbody tr th:only-of-type {\n",
              "        vertical-align: middle;\n",
              "    }\n",
              "\n",
              "    .dataframe tbody tr th {\n",
              "        vertical-align: top;\n",
              "    }\n",
              "\n",
              "    .dataframe thead th {\n",
              "        text-align: right;\n",
              "    }\n",
              "</style>\n",
              "<table border=\"1\" class=\"dataframe\">\n",
              "  <thead>\n",
              "    <tr style=\"text-align: right;\">\n",
              "      <th></th>\n",
              "      <th></th>\n",
              "      <th>amount</th>\n",
              "    </tr>\n",
              "    <tr>\n",
              "      <th>mcc_code</th>\n",
              "      <th>mcc_description</th>\n",
              "      <th></th>\n",
              "    </tr>\n",
              "  </thead>\n",
              "  <tbody>\n",
              "    <tr>\n",
              "      <th>6011</th>\n",
              "      <th>Финансовые институты — снятие наличности автоматически</th>\n",
              "      <td>3.085862e+09</td>\n",
              "    </tr>\n",
              "    <tr>\n",
              "      <th>4829</th>\n",
              "      <th>Денежные переводы</th>\n",
              "      <td>2.499153e+09</td>\n",
              "    </tr>\n",
              "    <tr>\n",
              "      <th>6010</th>\n",
              "      <th>Финансовые институты — снятие наличности вручную</th>\n",
              "      <td>2.208580e+08</td>\n",
              "    </tr>\n",
              "    <tr>\n",
              "      <th>5541</th>\n",
              "      <th>Станции техобслуживания</th>\n",
              "      <td>1.554326e+08</td>\n",
              "    </tr>\n",
              "    <tr>\n",
              "      <th>5511</th>\n",
              "      <th>Легковой и грузовой транспорт — продажа, сервис, ремонт, запчасти и лизинг</th>\n",
              "      <td>7.352877e+07</td>\n",
              "    </tr>\n",
              "    <tr>\n",
              "      <th>5812</th>\n",
              "      <th>Места общественного питания, рестораны</th>\n",
              "      <td>7.037856e+07</td>\n",
              "    </tr>\n",
              "    <tr>\n",
              "      <th>5977</th>\n",
              "      <th>Магазины косметики</th>\n",
              "      <td>4.241762e+07</td>\n",
              "    </tr>\n",
              "    <tr>\n",
              "      <th>5533</th>\n",
              "      <th>Автозапчасти и аксессуары</th>\n",
              "      <td>4.233808e+07</td>\n",
              "    </tr>\n",
              "    <tr>\n",
              "      <th>7995</th>\n",
              "      <th>Транзакции по азартным играм</th>\n",
              "      <td>4.079564e+07</td>\n",
              "    </tr>\n",
              "    <tr>\n",
              "      <th>5661</th>\n",
              "      <th>Обувные магазины</th>\n",
              "      <td>3.815470e+07</td>\n",
              "    </tr>\n",
              "  </tbody>\n",
              "</table>\n",
              "</div>"
            ],
            "text/plain": [
              "                                                                                           amount\n",
              "mcc_code mcc_description                                                                         \n",
              "6011     Финансовые институты — снятие наличности автоматически                      3.085862e+09\n",
              "4829     Денежные переводы                                                           2.499153e+09\n",
              "6010     Финансовые институты — снятие наличности вручную                            2.208580e+08\n",
              "5541     Станции техобслуживания                                                     1.554326e+08\n",
              "5511     Легковой и грузовой транспорт — продажа, сервис, ремонт, запчасти и лизинг  7.352877e+07\n",
              "5812     Места общественного питания, рестораны                                      7.037856e+07\n",
              "5977     Магазины косметики                                                          4.241762e+07\n",
              "5533     Автозапчасти и аксессуары                                                   4.233808e+07\n",
              "7995     Транзакции по азартным играм                                                4.079564e+07\n",
              "5661     Обувные магазины                                                            3.815470e+07"
            ]
          },
          "metadata": {},
          "execution_count": 110
        }
      ]
    },
    {
      "cell_type": "markdown",
      "metadata": {
        "id": "aYcQ8c4ugDMB"
      },
      "source": [
        "Задание 6\n"
      ]
    },
    {
      "cell_type": "code",
      "metadata": {
        "colab": {
          "base_uri": "https://localhost:8080/",
          "height": 394
        },
        "id": "zLkA1j_Bs-gh",
        "outputId": "10a1e972-abbf-47d2-9f01-296a2a87ae03"
      },
      "source": [
        "gender_1_df=gender_1[gender_1.amount>0]\n",
        "gender_1_max_income=gender_1_df.groupby('tr_type').amount.max()\n",
        "gender_1_max_income.sort_values(inplace=True)\n",
        "gender_1_max_income=gender_1_max_income[:10]\n",
        "gender_1_max_income.to_frame()"
      ],
      "execution_count": null,
      "outputs": [
        {
          "output_type": "execute_result",
          "data": {
            "text/html": [
              "<div>\n",
              "<style scoped>\n",
              "    .dataframe tbody tr th:only-of-type {\n",
              "        vertical-align: middle;\n",
              "    }\n",
              "\n",
              "    .dataframe tbody tr th {\n",
              "        vertical-align: top;\n",
              "    }\n",
              "\n",
              "    .dataframe thead th {\n",
              "        text-align: right;\n",
              "    }\n",
              "</style>\n",
              "<table border=\"1\" class=\"dataframe\">\n",
              "  <thead>\n",
              "    <tr style=\"text-align: right;\">\n",
              "      <th></th>\n",
              "      <th>amount</th>\n",
              "    </tr>\n",
              "    <tr>\n",
              "      <th>tr_type</th>\n",
              "      <th></th>\n",
              "    </tr>\n",
              "  </thead>\n",
              "  <tbody>\n",
              "    <tr>\n",
              "      <th>4110</th>\n",
              "      <td>2245.92</td>\n",
              "    </tr>\n",
              "    <tr>\n",
              "      <th>2020</th>\n",
              "      <td>2245.92</td>\n",
              "    </tr>\n",
              "    <tr>\n",
              "      <th>1010</th>\n",
              "      <td>28803.87</td>\n",
              "    </tr>\n",
              "    <tr>\n",
              "      <th>8100</th>\n",
              "      <td>64682.37</td>\n",
              "    </tr>\n",
              "    <tr>\n",
              "      <th>6000</th>\n",
              "      <td>79280.83</td>\n",
              "    </tr>\n",
              "    <tr>\n",
              "      <th>7041</th>\n",
              "      <td>87590.72</td>\n",
              "    </tr>\n",
              "    <tr>\n",
              "      <th>2010</th>\n",
              "      <td>89836.63</td>\n",
              "    </tr>\n",
              "    <tr>\n",
              "      <th>2110</th>\n",
              "      <td>112295.79</td>\n",
              "    </tr>\n",
              "    <tr>\n",
              "      <th>2370</th>\n",
              "      <td>113194.15</td>\n",
              "    </tr>\n",
              "    <tr>\n",
              "      <th>7015</th>\n",
              "      <td>121279.45</td>\n",
              "    </tr>\n",
              "  </tbody>\n",
              "</table>\n",
              "</div>"
            ],
            "text/plain": [
              "            amount\n",
              "tr_type           \n",
              "4110       2245.92\n",
              "2020       2245.92\n",
              "1010      28803.87\n",
              "8100      64682.37\n",
              "6000      79280.83\n",
              "7041      87590.72\n",
              "2010      89836.63\n",
              "2110     112295.79\n",
              "2370     113194.15\n",
              "7015     121279.45"
            ]
          },
          "metadata": {},
          "execution_count": 111
        }
      ]
    },
    {
      "cell_type": "code",
      "metadata": {
        "colab": {
          "base_uri": "https://localhost:8080/",
          "height": 394
        },
        "id": "eLgrWnkTgE3i",
        "outputId": "b4bb17c2-25c7-48fe-8b4a-e47f09126575"
      },
      "source": [
        "gender_0_df=gender_0[gender_0.amount>0]\n",
        "gender_0_max_income=gender_0_df.groupby('tr_type').amount.max()\n",
        "gender_0_max_income.sort_values(inplace=True)\n",
        "gender_0_max_income=gender_0_max_income[:10]\n",
        "gender_0_max_income.to_frame()"
      ],
      "execution_count": null,
      "outputs": [
        {
          "output_type": "execute_result",
          "data": {
            "text/html": [
              "<div>\n",
              "<style scoped>\n",
              "    .dataframe tbody tr th:only-of-type {\n",
              "        vertical-align: middle;\n",
              "    }\n",
              "\n",
              "    .dataframe tbody tr th {\n",
              "        vertical-align: top;\n",
              "    }\n",
              "\n",
              "    .dataframe thead th {\n",
              "        text-align: right;\n",
              "    }\n",
              "</style>\n",
              "<table border=\"1\" class=\"dataframe\">\n",
              "  <thead>\n",
              "    <tr style=\"text-align: right;\">\n",
              "      <th></th>\n",
              "      <th>amount</th>\n",
              "    </tr>\n",
              "    <tr>\n",
              "      <th>tr_type</th>\n",
              "      <th></th>\n",
              "    </tr>\n",
              "  </thead>\n",
              "  <tbody>\n",
              "    <tr>\n",
              "      <th>4051</th>\n",
              "      <td>1122.96</td>\n",
              "    </tr>\n",
              "    <tr>\n",
              "      <th>4110</th>\n",
              "      <td>2245.92</td>\n",
              "    </tr>\n",
              "    <tr>\n",
              "      <th>4210</th>\n",
              "      <td>2245.92</td>\n",
              "    </tr>\n",
              "    <tr>\n",
              "      <th>2370</th>\n",
              "      <td>2335.75</td>\n",
              "    </tr>\n",
              "    <tr>\n",
              "      <th>4100</th>\n",
              "      <td>5041.86</td>\n",
              "    </tr>\n",
              "    <tr>\n",
              "      <th>7075</th>\n",
              "      <td>6737.75</td>\n",
              "    </tr>\n",
              "    <tr>\n",
              "      <th>2110</th>\n",
              "      <td>22459.16</td>\n",
              "    </tr>\n",
              "    <tr>\n",
              "      <th>1010</th>\n",
              "      <td>24839.83</td>\n",
              "    </tr>\n",
              "    <tr>\n",
              "      <th>2010</th>\n",
              "      <td>44918.32</td>\n",
              "    </tr>\n",
              "    <tr>\n",
              "      <th>2210</th>\n",
              "      <td>68315.82</td>\n",
              "    </tr>\n",
              "  </tbody>\n",
              "</table>\n",
              "</div>"
            ],
            "text/plain": [
              "           amount\n",
              "tr_type          \n",
              "4051      1122.96\n",
              "4110      2245.92\n",
              "4210      2245.92\n",
              "2370      2335.75\n",
              "4100      5041.86\n",
              "7075      6737.75\n",
              "2110     22459.16\n",
              "1010     24839.83\n",
              "2010     44918.32\n",
              "2210     68315.82"
            ]
          },
          "metadata": {},
          "execution_count": 112
        }
      ]
    },
    {
      "cell_type": "code",
      "metadata": {
        "colab": {
          "base_uri": "https://localhost:8080/",
          "height": 206
        },
        "id": "YhDNAQx8tZJg",
        "outputId": "9d884161-4f1b-464f-8e64-c837ae2a9d15"
      },
      "source": [
        "idx1 = gender_1_max_income.index\n",
        "idx2 = gender_0_max_income.index\n",
        "idx=idx1.intersection(idx2)\n",
        "idx.to_frame(index=False, name='same_tr_types')"
      ],
      "execution_count": null,
      "outputs": [
        {
          "output_type": "execute_result",
          "data": {
            "text/html": [
              "<div>\n",
              "<style scoped>\n",
              "    .dataframe tbody tr th:only-of-type {\n",
              "        vertical-align: middle;\n",
              "    }\n",
              "\n",
              "    .dataframe tbody tr th {\n",
              "        vertical-align: top;\n",
              "    }\n",
              "\n",
              "    .dataframe thead th {\n",
              "        text-align: right;\n",
              "    }\n",
              "</style>\n",
              "<table border=\"1\" class=\"dataframe\">\n",
              "  <thead>\n",
              "    <tr style=\"text-align: right;\">\n",
              "      <th></th>\n",
              "      <th>same_tr_types</th>\n",
              "    </tr>\n",
              "  </thead>\n",
              "  <tbody>\n",
              "    <tr>\n",
              "      <th>0</th>\n",
              "      <td>4110</td>\n",
              "    </tr>\n",
              "    <tr>\n",
              "      <th>1</th>\n",
              "      <td>1010</td>\n",
              "    </tr>\n",
              "    <tr>\n",
              "      <th>2</th>\n",
              "      <td>2010</td>\n",
              "    </tr>\n",
              "    <tr>\n",
              "      <th>3</th>\n",
              "      <td>2110</td>\n",
              "    </tr>\n",
              "    <tr>\n",
              "      <th>4</th>\n",
              "      <td>2370</td>\n",
              "    </tr>\n",
              "  </tbody>\n",
              "</table>\n",
              "</div>"
            ],
            "text/plain": [
              "   same_tr_types\n",
              "0           4110\n",
              "1           1010\n",
              "2           2010\n",
              "3           2110\n",
              "4           2370"
            ]
          },
          "metadata": {},
          "execution_count": 91
        }
      ]
    },
    {
      "cell_type": "markdown",
      "metadata": {
        "id": "zcjSdY6HE7PP"
      },
      "source": [
        "Дополнительное задание"
      ]
    },
    {
      "cell_type": "code",
      "metadata": {
        "colab": {
          "base_uri": "https://localhost:8080/",
          "height": 363
        },
        "id": "9t8WdSo0E-sk",
        "outputId": "69126350-d53d-410f-c686-393412d9fafd"
      },
      "source": [
        "sum_genders = transactions_tbl[transactions_tbl['amount'] < 0]\n",
        "sum_genders = sum_genders.groupby(['gender', 'mcc_code', 'mcc_description'])\n",
        "sum_genders = sum_genders['amount'].sum()\n",
        "module = sum_genders.get(1)/sum_genders.get(0)\n",
        "module = module.to_frame().reset_index()\n",
        "module.columns = ['mcc_code', 'mcc_description', 'diff']\n",
        "bigger = np.ones(len(module.values))\n",
        "module['bigger outcome belongs to gender'] = bigger.tolist()\n",
        "module.loc[(module['diff'] < 1), 'bigger outcome belongs to gender'] = 0\n",
        "module.loc[(module['diff'] < 1), 'diff'] = 1/module['diff']\n",
        "module = module.sort_values(by='diff', ascending=False)\n",
        "module.head(10)"
      ],
      "execution_count": null,
      "outputs": [
        {
          "output_type": "execute_result",
          "data": {
            "text/html": [
              "<div>\n",
              "<style scoped>\n",
              "    .dataframe tbody tr th:only-of-type {\n",
              "        vertical-align: middle;\n",
              "    }\n",
              "\n",
              "    .dataframe tbody tr th {\n",
              "        vertical-align: top;\n",
              "    }\n",
              "\n",
              "    .dataframe thead th {\n",
              "        text-align: right;\n",
              "    }\n",
              "</style>\n",
              "<table border=\"1\" class=\"dataframe\">\n",
              "  <thead>\n",
              "    <tr style=\"text-align: right;\">\n",
              "      <th></th>\n",
              "      <th>mcc_code</th>\n",
              "      <th>mcc_description</th>\n",
              "      <th>diff</th>\n",
              "      <th>bigger outcome belongs to gender</th>\n",
              "    </tr>\n",
              "  </thead>\n",
              "  <tbody>\n",
              "    <tr>\n",
              "      <th>127</th>\n",
              "      <td>6211</td>\n",
              "      <td>Ценные бумаги: брокеры/дилеры</td>\n",
              "      <td>598.605439</td>\n",
              "      <td>1.0</td>\n",
              "    </tr>\n",
              "    <tr>\n",
              "      <th>141</th>\n",
              "      <td>7372</td>\n",
              "      <td>Программирование, обработка данных, интегрированные системы, дизайн</td>\n",
              "      <td>418.026630</td>\n",
              "      <td>1.0</td>\n",
              "    </tr>\n",
              "    <tr>\n",
              "      <th>160</th>\n",
              "      <td>7995</td>\n",
              "      <td>Транзакции по азартным играм</td>\n",
              "      <td>344.079967</td>\n",
              "      <td>1.0</td>\n",
              "    </tr>\n",
              "    <tr>\n",
              "      <th>173</th>\n",
              "      <td>8398</td>\n",
              "      <td>Организации благотворительные и общественные службы</td>\n",
              "      <td>295.844430</td>\n",
              "      <td>0.0</td>\n",
              "    </tr>\n",
              "    <tr>\n",
              "      <th>43</th>\n",
              "      <td>5193</td>\n",
              "      <td>Оборудование для выращивания растений, инвентарь для питомников и цветы</td>\n",
              "      <td>103.351765</td>\n",
              "      <td>1.0</td>\n",
              "    </tr>\n",
              "    <tr>\n",
              "      <th>167</th>\n",
              "      <td>8062</td>\n",
              "      <td>Больницы</td>\n",
              "      <td>69.686097</td>\n",
              "      <td>0.0</td>\n",
              "    </tr>\n",
              "    <tr>\n",
              "      <th>25</th>\n",
              "      <td>5013</td>\n",
              "      <td>Поставщики грузовиков и запчастей</td>\n",
              "      <td>59.702847</td>\n",
              "      <td>1.0</td>\n",
              "    </tr>\n",
              "    <tr>\n",
              "      <th>31</th>\n",
              "      <td>5072</td>\n",
              "      <td>Оборудование и сопутствующие материалы для технического обеспечения</td>\n",
              "      <td>56.856720</td>\n",
              "      <td>1.0</td>\n",
              "    </tr>\n",
              "    <tr>\n",
              "      <th>26</th>\n",
              "      <td>5039</td>\n",
              "      <td>Строительные материалы — нигде более не классифицированные</td>\n",
              "      <td>50.224801</td>\n",
              "      <td>1.0</td>\n",
              "    </tr>\n",
              "    <tr>\n",
              "      <th>143</th>\n",
              "      <td>7395</td>\n",
              "      <td>Фотостудии, фотолаборатории</td>\n",
              "      <td>30.826054</td>\n",
              "      <td>1.0</td>\n",
              "    </tr>\n",
              "  </tbody>\n",
              "</table>\n",
              "</div>"
            ],
            "text/plain": [
              "     mcc_code  ... bigger outcome belongs to gender\n",
              "127      6211  ...                              1.0\n",
              "141      7372  ...                              1.0\n",
              "160      7995  ...                              1.0\n",
              "173      8398  ...                              0.0\n",
              "43       5193  ...                              1.0\n",
              "167      8062  ...                              0.0\n",
              "25       5013  ...                              1.0\n",
              "31       5072  ...                              1.0\n",
              "26       5039  ...                              1.0\n",
              "143      7395  ...                              1.0\n",
              "\n",
              "[10 rows x 4 columns]"
            ]
          },
          "metadata": {},
          "execution_count": 262
        }
      ]
    }
  ]
}