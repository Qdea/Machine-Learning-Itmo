{
  "nbformat": 4,
  "nbformat_minor": 0,
  "metadata": {
    "colab": {
      "name": "ML1.ipynb",
      "provenance": [],
      "collapsed_sections": []
    },
    "kernelspec": {
      "display_name": "Python 3",
      "name": "python3"
    },
    "language_info": {
      "name": "python"
    }
  },
  "cells": [
    {
      "cell_type": "markdown",
      "metadata": {
        "id": "IaOCvwTuE9Tw"
      },
      "source": [
        "Задание 1"
      ]
    },
    {
      "cell_type": "code",
      "metadata": {
        "colab": {
          "base_uri": "https://localhost:8080/"
        },
        "id": "EN9D0g3B1QOh",
        "outputId": "865a0771-3923-4553-b584-862c83023c87"
      },
      "source": [
        "import numpy\n",
        "def linan():\n",
        "  val = [float(i) for i in input().split()]\n",
        "  val1 = [float(i) for i in input().split()]\n",
        "  M1 = numpy.array([val[:2], val1[:2]])\n",
        "  v1 = numpy.array([val[2:], val1[2:]])\n",
        "  res = numpy.linalg.solve(M1, v1)\n",
        "  return print(\"answer: \" + str(res[0][0]) + \" \" + str(res[1][0]))\n",
        "linan()\n",
        "\n"
      ],
      "execution_count": null,
      "outputs": [
        {
          "name": "stdout",
          "output_type": "stream",
          "text": [
            "1 2 8\n",
            "8 2 1\n",
            "answer: -1.0 4.5\n"
          ]
        }
      ]
    },
    {
      "cell_type": "markdown",
      "metadata": {
        "id": "hJHd4iXiFDBN"
      },
      "source": [
        "Задание 2\n"
      ]
    },
    {
      "cell_type": "code",
      "metadata": {
        "colab": {
          "base_uri": "https://localhost:8080/"
        },
        "id": "WPvTC1lk_yqH",
        "outputId": "9b47a9a2-2a74-4f4e-800e-d57b1526dba5"
      },
      "source": [
        "def decorate_matrix():\n",
        "  n = input()\n",
        "  if not n.isnumeric():\n",
        "   print(\"Not integer\")\n",
        "   return\n",
        "  elif int(n) <= 1:\n",
        "   print(\"Not bigger then 1\")\n",
        "   return\n",
        "  n = int(n)\n",
        "  A = numpy.ones((n, n))\n",
        "  A[1:n-1, 1:n-1]=0\n",
        "  return A\n",
        "decorate_matrix()"
      ],
      "execution_count": null,
      "outputs": [
        {
          "name": "stdout",
          "output_type": "stream",
          "text": [
            "6\n"
          ]
        },
        {
          "output_type": "execute_result",
          "data": {
            "text/plain": [
              "array([[1., 1., 1., 1., 1., 1.],\n",
              "       [1., 0., 0., 0., 0., 1.],\n",
              "       [1., 0., 0., 0., 0., 1.],\n",
              "       [1., 0., 0., 0., 0., 1.],\n",
              "       [1., 0., 0., 0., 0., 1.],\n",
              "       [1., 1., 1., 1., 1., 1.]])"
            ]
          },
          "metadata": {},
          "execution_count": 56
        }
      ]
    },
    {
      "cell_type": "markdown",
      "metadata": {
        "id": "EBa6x0lBFIVW"
      },
      "source": [
        "Задание 3"
      ]
    },
    {
      "cell_type": "code",
      "metadata": {
        "colab": {
          "base_uri": "https://localhost:8080/"
        },
        "id": "4PKnodQ2OHTa",
        "outputId": "bfcb2a79-d79d-4453-a85e-f8e9ae73dff0"
      },
      "source": [
        "from math import *\n",
        "ai = float(input())\n",
        "bi = float(input())\n",
        "def f(x):\n",
        "    return (x+ai)**2 - bi\n",
        "def g(x):\n",
        "    return abs(f(x))\n",
        "\n",
        "def dichotomy(func, a, b, eps):\n",
        "    c = (a + b) / 2\n",
        "    sigma = eps / 3\n",
        "    while b - a > eps:\n",
        "        x1 = c - sigma\n",
        "        x2 = c + sigma\n",
        "        if func(x1) > func(x2):\n",
        "            a = x2\n",
        "        else:\n",
        "            b = x1\n",
        "        c = (a + b) / 2\n",
        "    return c\n",
        "min_1g = dichotomy(g,-ai-10, -ai+10, 1.49e-8)\n",
        "min_2g = dichotomy(g, min_1g, -ai+10, 1.49e-8)\n",
        "min_f = dichotomy(f, -ai-10, -ai+10,1.49e-8)\n",
        "print(ceil(min_f), ceil(min_1g), ceil(min_2g))\n"
      ],
      "execution_count": null,
      "outputs": [
        {
          "output_type": "stream",
          "name": "stdout",
          "text": [
            "10\n",
            "11\n",
            "-10 -13 -6\n"
          ]
        }
      ]
    },
    {
      "cell_type": "markdown",
      "metadata": {
        "id": "MkMSAegMFNtJ"
      },
      "source": [
        "Задание 4"
      ]
    },
    {
      "cell_type": "code",
      "metadata": {
        "id": "jIpg5wUz70b_",
        "colab": {
          "base_uri": "https://localhost:8080/",
          "height": 573
        },
        "outputId": "ec4ac0d2-f773-4f54-d39c-595bab7110ff"
      },
      "source": [
        "import matplotlib.pyplot as plt\n",
        "import numpy as np\n",
        "import math\n",
        "x = np.linspace(-ai-10, -ai+10, 1000)\n",
        "y1 = list(map(f, x))\n",
        "y2 = list(map(g, x))\n",
        "\n",
        "minimum_f = min_f\n",
        "minimum_1g = min_1g\n",
        "minimum_2g = min_2g\n",
        "plt.plot(x, y1)\n",
        "plt.title(\"f\")\n",
        "plt.xlabel(\"X\")\n",
        "plt.ylabel(\"Y\")\n",
        "plt.scatter(minimum_f, f(minimum_f), color='r', s=40)\n",
        "plt.show()\n",
        "\n",
        "plt.plot(x, y2)\n",
        "plt.title(\"g\")\n",
        "plt.xlabel(\"X\")\n",
        "plt.ylabel(\"Y\")\n",
        "plt.scatter(minimum_1g, g(minimum_1g), color='r', s=40)\n",
        "plt.scatter(minimum_2g, g(minimum_2g), color='r', s=40)\n",
        "plt.show()\n"
      ],
      "execution_count": null,
      "outputs": [
        {
          "output_type": "display_data",
          "data": {
            "image/png": "[encoded data removed]",
            "text/plain": [
              "<Figure size 432x288 with 1 Axes>"
            ]
          },
          "metadata": {
            "needs_background": "light"
          }
        },
        {
          "output_type": "display_data",
          "data": {
            "image/png": "[encoded data removed]",
            "text/plain": [
              "<Figure size 432x288 with 1 Axes>"
            ]
          },
          "metadata": {
            "needs_background": "light"
          }
        }
      ]
    },
    {
      "cell_type": "markdown",
      "metadata": {
        "id": "-Rs7aK_9FTKh"
      },
      "source": [
        "Задание 5"
      ]
    },
    {
      "cell_type": "markdown",
      "metadata": {
        "id": "J6AZ8785VkQd"
      },
      "source": [
        "1000 человек бросают монетку. Каждый бросил 10 раз подряд.\n",
        "\n",
        " 1. Какова вероятность того, что хотя бы у одного человека монетка выпала 10 раз подряд той же самой сторой (орлом или решкой)? \n",
        " 2. Какова вероятность того, что хотя бы у одного человека монетка выпала 8 раз подряд той же самой сторой (орлом или решкой)? \n",
        " 3. Какова вероятность того, что ровно у троих человек из 1000 монетка выпала 10 раз подряд той же самой сторой (орлом или решкой)?"
      ]
    },
    {
      "cell_type": "code",
      "metadata": {
        "colab": {
          "base_uri": "https://localhost:8080/"
        },
        "id": "sQF_yifgaDfN",
        "outputId": "41a48542-fb06-4620-e32a-855517039e9e"
      },
      "source": [
        "import numpy\n",
        "import random\n",
        "import itertools\n",
        "\n",
        "# количество бросков n\n",
        "# количество человек m\n",
        "def calcA(m, n):\n",
        "  # вероятность, что у одного человека выпала монетка n раз подряд той же самой стороной\n",
        "  p1 = 0.5 ** (n - 1)\n",
        "\n",
        "  # монетка не выпала n раз подряд той же самой стороной\n",
        "  q1 = 1 - p1\n",
        "\n",
        "  # вероятность, что ни у кого не выпала n раз подряд из m человек\n",
        "  p2 = q1 ** m\n",
        "\n",
        "  # вероятность, что хотя бы у одного выпала монетка n раз подряд из m человек\n",
        "  return 1 - p2\n",
        "\n",
        "# случайные три человека из 1000 - перестановка C из n по k(формула Бернулли)\n",
        "def calcC(m, n):\n",
        "  c = 1\n",
        "  d = 3\n",
        "  p1 = 0.5 ** (n - 1)\n",
        "  q1 = 1 - p1\n",
        "  for i in range(0, d):\n",
        "    c = c * (m - i)\n",
        "  for i in range(0, d):\n",
        "    c = c / (i + 1)\n",
        "  return (p1 ** d) * (q1 ** (m - d)) * c\n",
        "\n",
        "# Симуляция\n",
        "def calcB(m, n, s):\n",
        "  a = 0\n",
        "  b = 5000 #число опытов\n",
        "  for i in range(0, b):\n",
        "    z = 0\n",
        "    for j in range(0, m):\n",
        "      r = 0\n",
        "      for k in range(0, n-1):\n",
        "        if random.random() < 0.5:\n",
        "          r = r + 1\n",
        "      if r == n-1:\n",
        "        z = z + 1\n",
        "    if s == 0 and z > 0:\n",
        "      a = a + 1\n",
        "    if s == 1 and z == 3:\n",
        "      a = a + 1\n",
        "  return a / b\n",
        "\n",
        "print('1a)', str(calcA(1000, 10)))\n",
        "print('2a)', str(calcA(1000, 8)))\n",
        "print('3a)', str(calcC(1000, 10)))\n",
        "\n",
        "print('1b)', str(calcB(1000, 10, 0)))\n",
        "print('2b)', str(calcB(1000, 8, 0)))\n",
        "print('3b)', str(calcB(1000, 10, 1)))\n"
      ],
      "execution_count": null,
      "outputs": [
        {
          "output_type": "stream",
          "name": "stdout",
          "text": [
            "1a) 0.858440454732242\n",
            "2a) 0.9996075798421896\n",
            "3a) 0.1762873858121736\n",
            "1b) 0.865\n",
            "2b) 0.9992\n",
            "3b) 0.1742\n"
          ]
        }
      ]
    }
  ]
}