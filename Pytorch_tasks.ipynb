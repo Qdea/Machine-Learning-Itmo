{
  "cells": [
    {
      "cell_type": "markdown",
      "metadata": {
        "id": "vcnGdgw_YJ8u"
      },
      "source": [
        "# PyTorch. Основы: синтаксис, torch.cuda и torch.autograd\n",
        "\n",
        "## Задание 7.1"
      ]
    },
    {
      "cell_type": "code",
      "execution_count": null,
      "metadata": {
        "id": "RtyozNmmYJ89"
      },
      "outputs": [],
      "source": [
        "import torch\n",
        "import matplotlib.pyplot as plt"
      ]
    },
    {
      "cell_type": "markdown",
      "metadata": {
        "id": "ny4-Qi2wYJ-6"
      },
      "source": [
        "### Задача 1"
      ]
    },
    {
      "cell_type": "markdown",
      "metadata": {
        "id": "IWxlFq0bYJ-_"
      },
      "source": [
        "1). Создайте два вещественных тензора: `a` размером (3, 4) и `b` размером (12,)   \n",
        "2). Создайте тензор `c`, являющийся тензором `b`, но размера (2, 2, 3)  \n",
        "3). Выведите первый столбец матрицы `a` с помощью индексации"
      ]
    },
    {
      "cell_type": "code",
      "execution_count": null,
      "metadata": {
        "colab": {
          "base_uri": "https://localhost:8080/"
        },
        "id": "3oxZuk3yYJ_A",
        "outputId": "8b97cd75-793e-4f83-a1a3-a8148681dfac"
      },
      "outputs": [
        {
          "name": "stdout",
          "output_type": "stream",
          "text": [
            "1)\n",
            "tensor([[0.2460, 0.5537, 0.5769, 0.1408],\n",
            "        [0.0881, 0.4001, 0.3345, 0.0488],\n",
            "        [0.7771, 0.6751, 0.8262, 0.7719]])\n",
            "tensor([0.6559, 0.8135, 0.5260, 0.1398, 0.2912, 0.2893, 0.1333, 0.6849, 0.9271,\n",
            "        0.1875, 0.5074, 0.8865])\n",
            "2)\n",
            "tensor([[[0.6559, 0.8135, 0.5260],\n",
            "         [0.1398, 0.2912, 0.2893]],\n",
            "\n",
            "        [[0.1333, 0.6849, 0.9271],\n",
            "         [0.1875, 0.5074, 0.8865]]])\n",
            "3)\n",
            "tensor([0.2460, 0.0881, 0.7771])\n"
          ]
        }
      ],
      "source": [
        "print(\"1)\")\n",
        "a = torch.rand(3, 4, dtype=torch.float)\n",
        "b = torch.rand(12,dtype=torch.float)\n",
        "print(a)\n",
        "print(b)\n",
        "print(\"2)\")\n",
        "b = b.reshape(2, 2, 3)\n",
        "print(b)\n",
        "print(\"3)\")\n",
        "a = a[:, 0]\n",
        "print(a)"
      ]
    },
    {
      "cell_type": "markdown",
      "metadata": {
        "id": "D2IP_FrKYKAA"
      },
      "source": [
        "### Задача 2"
      ]
    },
    {
      "cell_type": "markdown",
      "metadata": {
        "id": "tBZFbSYQYKAA"
      },
      "source": [
        "1). Создайте два вещественных тензора: `a` размером (5, 2) и `b` размером (1,10)   \n",
        "2). Создайте тензор `c`, являющийся тензором `b`, но размера (5, 2)  \n",
        "3). Произведите все арифметические операции с тензорами `a` и `c`"
      ]
    },
    {
      "cell_type": "code",
      "execution_count": null,
      "metadata": {
        "colab": {
          "base_uri": "https://localhost:8080/"
        },
        "id": "hzs2bH3GYKAB",
        "outputId": "9af05253-5219-4735-c7df-2453c3ec38c3"
      },
      "outputs": [
        {
          "name": "stdout",
          "output_type": "stream",
          "text": [
            "1)\n",
            "tensor([[0.2674, 0.1585],\n",
            "        [0.0696, 0.2581],\n",
            "        [0.0590, 0.2093],\n",
            "        [0.3579, 0.3020],\n",
            "        [0.6706, 0.6491]], dtype=torch.float64)\n",
            "tensor([[0.5258, 0.2544, 0.1465, 0.6743, 0.8643, 0.5172, 0.0296, 0.7848, 0.1861,\n",
            "         0.7288]], dtype=torch.float64)\n",
            "2)\n",
            "tensor([[0.5258, 0.2544],\n",
            "        [0.1465, 0.6743],\n",
            "        [0.8643, 0.5172],\n",
            "        [0.0296, 0.7848],\n",
            "        [0.1861, 0.7288]], dtype=torch.float64)\n",
            "3)\n",
            "tensor([[0.7932, 0.4129],\n",
            "        [0.2161, 0.9324],\n",
            "        [0.9233, 0.7265],\n",
            "        [0.3874, 1.0867],\n",
            "        [0.8567, 1.3778]], dtype=torch.float64)\n",
            "tensor([[0.1406, 0.0403],\n",
            "        [0.0102, 0.1740],\n",
            "        [0.0510, 0.1083],\n",
            "        [0.0106, 0.2370],\n",
            "        [0.1248, 0.4730]], dtype=torch.float64)\n",
            "tensor([[-0.2583, -0.0959],\n",
            "        [-0.0769, -0.4162],\n",
            "        [-0.8053, -0.3078],\n",
            "        [ 0.3283, -0.4828],\n",
            "        [ 0.4845, -0.0797]], dtype=torch.float64)\n",
            "tensor([[ 0.5086,  0.6232],\n",
            "        [ 0.4751,  0.3828],\n",
            "        [ 0.0682,  0.4047],\n",
            "        [12.1077,  0.3848],\n",
            "        [ 3.6038,  0.8906]], dtype=torch.float64)\n",
            "tensor([[0.2674, 0.1585],\n",
            "        [0.0696, 0.2581],\n",
            "        [0.0590, 0.2093],\n",
            "        [0.0032, 0.3020],\n",
            "        [0.1124, 0.6491]], dtype=torch.float64)\n"
          ]
        }
      ],
      "source": [
        "print(\"1)\")\n",
        "a = torch.rand(5, 2, dtype=float)\n",
        "b = torch.rand(1, 10, dtype=float)\n",
        "print(a)\n",
        "print(b)\n",
        "print(\"2)\")\n",
        "c = b.reshape(5, 2)\n",
        "print(c)\n",
        "print(\"3)\")\n",
        "print(a.add(c))\n",
        "print(a.mul(c))\n",
        "print(a.sub(c))\n",
        "print(a.div(c))"
      ]
    },
    {
      "cell_type": "markdown",
      "metadata": {
        "id": "rIaroFO6YKBT"
      },
      "source": [
        "### Задача 3"
      ]
    },
    {
      "cell_type": "markdown",
      "metadata": {
        "id": "GfLHVvKvYKBT"
      },
      "source": [
        "1). Создайте тензор *целых чисел* `images` размерности (100, 200, 200, 3) (можно интерпретировать это как 100 картинок размера 200х200 с тремя цветовыми каналами, то есть 100 цветных изображений 200х200). Заполните его нулями  \n",
        "\n",
        "2). Сделайте так, чтобы у $i$-ой по порядку картинки была нарисована белая полоса толщиной два пикселя в строках, которые соответствуют номеру картинки. Например, у 3-ей по порядку картинки белая полоска будет занимать 6 и 7 строки, у 99 - 198 и 199. Сделать белую строку можно, записав в ячейки тензора число 255 (по всем трём каналам). Выведите несколько примеров с помощью `pylot`  \n",
        "\n",
        "3). Посчитайте среднее тензора `images` по 1-ой оси (по сути - средняя картинка), умножьте полученный тензор на 70. Нарисуйте с помощью `pyplot`, должна получиться серая картинка (при взятии среднего нужно привести тензор к float с помощью `.float()`, при отрисовке обратно к int с помощью `.int()`)"
      ]
    },
    {
      "cell_type": "code",
      "execution_count": null,
      "metadata": {
        "colab": {
          "base_uri": "https://localhost:8080/",
          "height": 1000
        },
        "id": "pZVGHEQQYKBU",
        "outputId": "7ab04e7d-19bc-42bb-bb96-88dd0a8c30e4"
      },
      "outputs": [
        {
          "name": "stdout",
          "output_type": "stream",
          "text": [
            "1)\n",
            "torch.Size([100, 200, 200, 3])\n"
          ]
        },
        {
          "data": {
            "image/png": "[encoded data removed]",
            "text/plain": [
              "<Figure size 432x288 with 1 Axes>"
            ]
          },
          "metadata": {
            "needs_background": "light"
          },
          "output_type": "display_data"
        },
        {
          "data": {
            "image/png": "[encoded data removed]",
            "text/plain": [
              "<Figure size 432x288 with 1 Axes>"
            ]
          },
          "metadata": {
            "needs_background": "light"
          },
          "output_type": "display_data"
        },
        {
          "data": {
            "image/png": "[encoded data removed]",
            "text/plain": [
              "<Figure size 432x288 with 1 Axes>"
            ]
          },
          "metadata": {
            "needs_background": "light"
          },
          "output_type": "display_data"
        },
        {
          "data": {
            "image/png": "[encoded data removed]",
            "text/plain": [
              "<Figure size 432x288 with 1 Axes>"
            ]
          },
          "metadata": {
            "needs_background": "light"
          },
          "output_type": "display_data"
        },
        {
          "data": {
            "image/png": "[encoded data removed]",
            "text/plain": [
              "<Figure size 432x288 with 1 Axes>"
            ]
          },
          "metadata": {
            "needs_background": "light"
          },
          "output_type": "display_data"
        }
      ],
      "source": [
        "import numpy as np\n",
        "\n",
        "images = torch.IntTensor(100, 200, 200, 3).zero_()\n",
        "for i in range(0, 100):\n",
        "  images[i][i * 2 : i * 2 + 2] = 255\n",
        "print(\"1)\")\n",
        "print(images.shape)\n",
        "fig, ax = plt.subplots()\n",
        "ax.set_title('2)')\n",
        "ax.imshow(images[3])\n",
        "fig, ax = plt.subplots()\n",
        "ax.imshow(images[10])\n",
        "fig, ax = plt.subplots()\n",
        "ax.imshow(images[60])\n",
        "fig, ax = plt.subplots()\n",
        "ax.imshow(images[99])\n",
        "fig, ax = plt.subplots()\n",
        "ax.set_title('3)')\n",
        "ax.imshow((images.float().mean(0) * 70).int())\n",
        "plt.show()"
      ]
    },
    {
      "cell_type": "markdown",
      "metadata": {
        "id": "oQnhq5ZdYKCu"
      },
      "source": [
        "### Задача 4"
      ]
    },
    {
      "cell_type": "markdown",
      "metadata": {
        "id": "UB95BhgTYKCu"
      },
      "source": [
        "- В Colab нажмите в меню сверху: `Runtime` -> `Change Runtime Type` -> `GPU`, где изначально стоит `None` (`Среда выполнение` - `Сменить среду выполнения`)\n",
        "- Объявите тензор `a` размера (2, 3, 4) и тензор `b` размера (1, 8, 3) на GPU, иницилизируйте их случайно равномерно (`.uniform_()`)\n",
        "- Затем измените форму тензора `b`, чтобы она совпадала с формой тензора `a`, получите тензор `c`  \n",
        "- Переместите `c` на CPU, переместите `a` на CPU  \n",
        "- Оберните их в `Variable()`\n",
        "- Объявите тензор `L = torch.mean((c - a) `**` 2)` и посчитайте градиент `L` по `c` ( то есть $\\frac{\\partial{L}}{\\partial{c}})$\n",
        "- Выведите градиент `L` по `c`"
      ]
    },
    {
      "cell_type": "code",
      "execution_count": null,
      "metadata": {
        "colab": {
          "base_uri": "https://localhost:8080/"
        },
        "id": "WESOm5TCYKCv",
        "outputId": "3860d206-c038-4b10-9f29-665133cc1fbd"
      },
      "outputs": [
        {
          "name": "stdout",
          "output_type": "stream",
          "text": [
            "(tensor([[[ 0.0598,  0.0318, -0.0112,  0.0197],\n",
            "         [-0.0536, -0.0200, -0.0487, -0.0441],\n",
            "         [ 0.0179,  0.0058, -0.0215, -0.0583]],\n",
            "\n",
            "        [[-0.0193,  0.0367,  0.0552,  0.0280],\n",
            "         [-0.0130, -0.0390, -0.0121,  0.0097],\n",
            "         [ 0.0200,  0.0343, -0.0389, -0.0186]]]),)\n"
          ]
        }
      ],
      "source": [
        "a = torch.empty(2, 3, 4).uniform_()\n",
        "b = torch.empty(1, 8, 3).uniform_()\n",
        "\n",
        "c = b.reshape(2, 3, 4)\n",
        "\n",
        "c = c.cpu()\n",
        "a = a.cpu()\n",
        "\n",
        "a = torch.autograd.Variable(torch.FloatTensor(a), requires_grad=False)\n",
        "c = torch.autograd.Variable(torch.FloatTensor(c), requires_grad=True)\n",
        "\n",
        "L = torch.mean((c - a)**2)\n",
        "d = torch.autograd.grad(outputs=L, inputs=c)\n",
        "print(d)"
      ]
    }
  ],
  "metadata": {
    "accelerator": "GPU",
    "colab": {
      "name": "Pytorch tasks.ipynb",
      "provenance": []
    },
    "kernelspec": {
      "display_name": "Python 3",
      "language": "python",
      "name": "python3"
    },
    "language_info": {
      "codemirror_mode": {
        "name": "ipython",
        "version": 3
      },
      "file_extension": ".py",
      "mimetype": "text/x-python",
      "name": "python",
      "nbconvert_exporter": "python",
      "pygments_lexer": "ipython3",
      "version": "3.6.5"
    }
  },
  "nbformat": 4,
  "nbformat_minor": 0
}
